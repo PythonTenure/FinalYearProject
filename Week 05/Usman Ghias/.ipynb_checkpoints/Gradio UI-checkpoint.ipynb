{
 "cells": [
  {
   "cell_type": "markdown",
   "id": "add6f631-368a-45be-8c42-975e997537bf",
   "metadata": {},
   "source": [
    "#  $$ Gradio UI "
   ]
  },
  {
   "cell_type": "code",
   "execution_count": null,
   "id": "4a4209b5-6eac-44a3-a048-789d4063b6a8",
   "metadata": {},
   "outputs": [],
   "source": [
    "!pip install -U segmentation-models"
   ]
  },
  {
   "cell_type": "code",
   "execution_count": null,
   "id": "05e5703e-9a55-4c41-b7a6-3aab1c11b138",
   "metadata": {},
   "outputs": [],
   "source": [
    "!pip install gradio"
   ]
  },
  {
   "cell_type": "code",
   "execution_count": null,
   "id": "d006b000-9131-4772-a144-7cb099806f67",
   "metadata": {},
   "outputs": [],
   "source": [
    "import os\n",
    "import cv2\n",
    "from PIL import Image \n",
    "import numpy as np \n",
    "import segmentation_models as sm\n",
    "from matplotlib import pyplot as plt\n",
    "import random"
   ]
  },
  {
   "cell_type": "code",
   "execution_count": null,
   "id": "f9841e1f-3f80-4534-8025-d9dee6ce9338",
   "metadata": {},
   "outputs": [],
   "source": [
    "from keras import backend as K\n",
    "from keras.models import load_model "
   ]
  },
  {
   "cell_type": "code",
   "execution_count": null,
   "id": "c00c3f2b-7821-47e9-8cc0-5158608f747b",
   "metadata": {},
   "outputs": [],
   "source": [
    "import gradio as gr"
   ]
  },
  {
   "cell_type": "code",
   "execution_count": null,
   "id": "0aad7803-5249-4792-856b-c06142c0dc00",
   "metadata": {},
   "outputs": [],
   "source": [
    "def jaccard_coef(y_true, y_pred):\n",
    "  y_true_flatten = K.flatten(y_true)\n",
    "  y_pred_flatten = K.flatten(y_pred)\n",
    "  intersection = K.sum(y_true_flatten * y_pred_flatten)\n",
    "  final_coef_value = (intersection + 1.0) / (K.sum(y_true_flatten) + K.sum(y_pred_flatten) - intersection + 1.0)\n",
    "  return final_coef_value"
   ]
  },
  {
   "cell_type": "code",
   "execution_count": null,
   "id": "5a004e2e-6aa9-4540-a236-f3574b935a3e",
   "metadata": {},
   "outputs": [],
   "source": [
    "weights = [0.1666, 0.1666, 0.1666, 0.1666, 0.1666, 0.1666]\n",
    "dice_loss = sm.losses.DiceLoss(class_weights = weights)\n",
    "focal_loss = sm.losses.CategoricalFocalLoss()\n",
    "total_loss = dice_loss + (1 * focal_loss)"
   ]
  },
  {
   "cell_type": "code",
   "execution_count": null,
   "id": "9c64fb70-b800-4fd8-9e27-01c26af7eb31",
   "metadata": {},
   "outputs": [],
   "source": [
    "satellite_model = load_model('/content/satellite-imagery.h5',\n",
    "                         custom_objects=({'dice_loss_plus_1focal_loss': total_loss, \n",
    "                                          'jaccard_coef': jaccard_coef}))"
   ]
  },
  {
   "cell_type": "code",
   "execution_count": null,
   "id": "3b6703c6-fd0e-4ab9-826c-98a68ff72995",
   "metadata": {},
   "outputs": [],
   "source": [
    "#satellite_model.get_config()"
   ]
  },
  {
   "cell_type": "code",
   "execution_count": null,
   "id": "90e416a8-d60c-4958-9dd3-041133e09297",
   "metadata": {},
   "outputs": [],
   "source": [
    "image = Image.open('/content/fc-img1.jpg')\n",
    "image = image.resize((256,256))\n",
    "image = np.array(image)\n",
    "image = np.expand_dims(image, 0)"
   ]
  },
  {
   "cell_type": "code",
   "execution_count": null,
   "id": "585389d6-87b4-499a-9442-14a3f25ca47c",
   "metadata": {},
   "outputs": [],
   "source": [
    "prediction = satellite_model.predict(image)"
   ]
  },
  {
   "cell_type": "code",
   "execution_count": null,
   "id": "9097d547-3ae6-447a-ba21-6f2c4067833a",
   "metadata": {},
   "outputs": [],
   "source": [
    "predicted_image = np.argmax(prediction, axis=3)\n",
    "predicted_image = predicted_image[0,:,:]"
   ]
  },
  {
   "cell_type": "code",
   "execution_count": null,
   "id": "a44c8eb9-576f-4454-9bf9-a70bd2c6614d",
   "metadata": {},
   "outputs": [],
   "source": [
    "type(predicted_image)"
   ]
  },
  {
   "cell_type": "code",
   "execution_count": null,
   "id": "2426705f-c39a-4a8a-b8bf-fc9eb69d1a27",
   "metadata": {},
   "outputs": [],
   "source": [
    "plt.figure(figsize=(14,8))\n",
    "plt.subplot(231)\n",
    "plt.title(\"Original Image\")\n",
    "plt.imshow(Image.open('/content/fc-img1.jpg'))\n",
    "plt.subplot(232)\n",
    "plt.title(\"Predicted Image\")\n",
    "plt.imshow(predicted_image)"
   ]
  },
  {
   "cell_type": "code",
   "execution_count": null,
   "id": "a56d7090-53c2-463c-bc6f-f7e508ede2bf",
   "metadata": {},
   "outputs": [],
   "source": [
    "def process_input_image(image_source):\n",
    "  image = np.expand_dims(image_source, 0)\n",
    "\n",
    "  prediction = satellite_model.predict(image)\n",
    "  predicted_image = np.argmax(prediction, axis=3)\n",
    "\n",
    "  predicted_image = predicted_image[0,:,:]\n",
    "  predicted_image = predicted_image * 50\n",
    "  return 'Predicted Masked Image', predicted_image"
   ]
  },
  {
   "cell_type": "code",
   "execution_count": null,
   "id": "fd60fbb8-007a-416d-958f-847b4d283894",
   "metadata": {},
   "outputs": [],
   "source": [
    "my_app = gr.Blocks()"
   ]
  },
  {
   "cell_type": "code",
   "execution_count": null,
   "id": "cdcc8edc-bdbe-4f40-b7ee-7400dac33ab1",
   "metadata": {},
   "outputs": [],
   "source": [
    "with my_app:\n",
    "  gr.Markdown(\"Statellite Image Segmentation Application UI with Gradio\")\n",
    "  with gr.Tabs():\n",
    "    with gr.TabItem(\"Select your image\"):\n",
    "      with gr.Row():\n",
    "        with gr.Column():\n",
    "            img_source = gr.Image(label=\"Please select source Image\", shape=(256, 256))\n",
    "            source_image_loader = gr.Button(\"Load above Image\")\n",
    "        with gr.Column():\n",
    "            output_label = gr.Label(label=\"Image Info\")\n",
    "            img_output = gr.Image(label=\"Image Output\")\n",
    "    source_image_loader.click(\n",
    "        process_input_image,\n",
    "        [\n",
    "            img_source\n",
    "        ],\n",
    "        [\n",
    "            output_label,\n",
    "            img_output\n",
    "        ]\n",
    "    )"
   ]
  },
  {
   "cell_type": "code",
   "execution_count": null,
   "id": "08b6e5e8-0c86-4314-bf02-0683ae62fa94",
   "metadata": {},
   "outputs": [],
   "source": [
    "my_app.launch(debug=True)"
   ]
  },
  {
   "cell_type": "code",
   "execution_count": null,
   "id": "f47aba6c-9eeb-4a74-9ec3-fd457c8eb668",
   "metadata": {},
   "outputs": [],
   "source": [
    "my_app.close()"
   ]
  },
  {
   "cell_type": "code",
   "execution_count": null,
   "id": "bd757da7-9a07-4999-ab39-9b99b1291191",
   "metadata": {},
   "outputs": [],
   "source": []
  },
  {
   "cell_type": "code",
   "execution_count": null,
   "id": "a7aa0592-3be3-4358-999c-496a5f4a756d",
   "metadata": {},
   "outputs": [],
   "source": []
  }
 ],
 "metadata": {
  "kernelspec": {
   "display_name": "Python 3 (ipykernel)",
   "language": "python",
   "name": "python3"
  },
  "language_info": {
   "codemirror_mode": {
    "name": "ipython",
    "version": 3
   },
   "file_extension": ".py",
   "mimetype": "text/x-python",
   "name": "python",
   "nbconvert_exporter": "python",
   "pygments_lexer": "ipython3",
   "version": "3.11.5"
  }
 },
 "nbformat": 4,
 "nbformat_minor": 5
}
