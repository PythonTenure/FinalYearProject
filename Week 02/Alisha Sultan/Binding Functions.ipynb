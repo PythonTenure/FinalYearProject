{
 "cells": [
  {
   "cell_type": "markdown",
   "id": "bff220e5",
   "metadata": {},
   "source": [
    "# Binding Function in Tkinter"
   ]
  },
  {
   "cell_type": "code",
   "execution_count": 2,
   "id": "e32c5d49",
   "metadata": {},
   "outputs": [
    {
     "name": "stdout",
     "output_type": "stream",
     "text": [
      "Button-2 pressed at x =  199 , y =  21\n",
      "Button-3 pressed at x =  178 , y =  103\n",
      "Button-2 pressed at x =  167 , y =  98\n",
      "Button-3 pressed at x =  166 , y =  102\n",
      "Button-2 pressed at x =  155 , y =  99\n",
      "Button-3 pressed at x =  160 , y =  104\n",
      "Button-2 pressed at x =  197 , y =  98\n",
      "Button-3 pressed at x =  200 , y =  22\n"
     ]
    }
   ],
   "source": [
    "from tkinter import *\n",
    "\n",
    "root = Tk()\n",
    "\n",
    "root.geometry('200x100')\n",
    "\n",
    "def enter(event):\n",
    "    print('Button-2 pressed at x = % d , y = % d' %(event.x , event.y))\n",
    "    \n",
    "def exit(event):\n",
    "    print('Button-3 pressed at x = % d , y = % d' %(event.x , event.y))\n",
    "\n",
    "frame1 = Frame(root , height = 100 , width = 200)\n",
    "\n",
    "frame1.bind('<Enter>' , enter)\n",
    "frame1.bind('<Leave>' , exit)\n",
    "\n",
    "frame1.pack()\n",
    "\n",
    "mainloop()"
   ]
  },
  {
   "cell_type": "markdown",
   "id": "3a170a38",
   "metadata": {},
   "source": [
    "# Binding Function with double click with Tkinter ListBox"
   ]
  },
  {
   "cell_type": "code",
   "execution_count": 11,
   "id": "7db1fb75",
   "metadata": {},
   "outputs": [],
   "source": [
    "\n",
    "from tkinter import *\n",
    "   \n",
    "def go(event): \n",
    "    cs = Lb.curselection() \n",
    "      \n",
    "    # Updating label text to selected option \n",
    "    w.config(text=Lb.get(cs)) \n",
    "      \n",
    "    # Setting Background Colour \n",
    "    for list in cs: \n",
    "          \n",
    "        if list == 0: \n",
    "            top.configure(background='red') \n",
    "        elif list == 1: \n",
    "            top.configure(background='green') \n",
    "        elif list == 2: \n",
    "            top.configure(background='yellow') \n",
    "        elif list == 3: \n",
    "            top.configure(background='white') \n",
    "   \n",
    "   \n",
    "top = Tk() \n",
    "top.geometry('250x275') \n",
    "top.title('Double Click') \n",
    "   \n",
    "# Creating Listbox \n",
    "Lb = Listbox(top, height=6) \n",
    "# Inserting items in Listbox \n",
    "Lb.insert(0, 'Red') \n",
    "Lb.insert(1, 'Green') \n",
    "Lb.insert(2, 'Yellow') \n",
    "Lb.insert(3, 'White') \n",
    "   \n",
    "# Binding double click with left mouse \n",
    "# button with go function \n",
    "Lb.bind('<Double-1>', go) \n",
    "Lb.pack() \n",
    "   \n",
    "# Creating Edit box to show selected option \n",
    "w = Label(top, text='Default') \n",
    "w.pack() \n",
    "top.mainloop() \n"
   ]
  },
  {
   "cell_type": "markdown",
   "id": "1ac10a31",
   "metadata": {},
   "source": [
    "# Right Click menu using Tkinter"
   ]
  },
  {
   "cell_type": "code",
   "execution_count": 12,
   "id": "8e26041c",
   "metadata": {},
   "outputs": [],
   "source": [
    "import tkinter \n",
    "from tkinter import *\n",
    "  \n",
    "root = Tk() \n",
    "  \n",
    "L = Label(root, text =\"Right-click to display menu\", \n",
    "          width = 40, height = 20) \n",
    "L.pack() \n",
    "  \n",
    "m = Menu(root, tearoff = 0) \n",
    "m.add_command(label =\"Cut\") \n",
    "m.add_command(label =\"Copy\") \n",
    "m.add_command(label =\"Paste\") \n",
    "m.add_command(label =\"Reload\") \n",
    "m.add_separator() \n",
    "m.add_command(label =\"Rename\") \n",
    "  \n",
    "def do_popup(event): \n",
    "    try: \n",
    "        m.tk_popup(event.x_root, event.y_root) \n",
    "    finally: \n",
    "        m.grab_release() \n",
    "  \n",
    "L.bind(\"<Button-3>\", do_popup) \n",
    "  \n",
    "mainloop() \n"
   ]
  },
  {
   "cell_type": "code",
   "execution_count": null,
   "id": "17ecb0df",
   "metadata": {},
   "outputs": [],
   "source": []
  }
 ],
 "metadata": {
  "kernelspec": {
   "display_name": "Python 3 (ipykernel)",
   "language": "python",
   "name": "python3"
  },
  "language_info": {
   "codemirror_mode": {
    "name": "ipython",
    "version": 3
   },
   "file_extension": ".py",
   "mimetype": "text/x-python",
   "name": "python",
   "nbconvert_exporter": "python",
   "pygments_lexer": "ipython3",
   "version": "3.11.3"
  }
 },
 "nbformat": 4,
 "nbformat_minor": 5
}
