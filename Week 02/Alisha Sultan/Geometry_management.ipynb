{
 "cells": [
  {
   "cell_type": "markdown",
   "id": "ed7400b2",
   "metadata": {},
   "source": [
    "# Geometry Management\n",
    "\n",
    "\n",
    "In Tkinter, `pack`, `place`, and `grid` are three different geometry managers that help you arrange and position widgets within a container (typically a frame or window). Each has its own approach to organizing widgets, and the choice of which one to use depends on your specific layout requirements. Here are the key differences between them:\n",
    "\n",
    "1. `pack` Geometry Manager:\n",
    "   - The `pack` geometry manager is the simplest and often used for basic layout needs.\n",
    "   - It automatically arranges widgets in a single column or row.\n",
    "   - Widgets are stacked vertically (by default) or horizontally, and they expand to fill the available space.\n",
    "   - Widgets can have optional fill and padding options to control their behavior.\n",
    "   - Widgets added later with `pack` are placed below (or to the right) of previously added widgets.\n",
    "\n",
    "2. `place` Geometry Manager:\n",
    "   - The `place` geometry manager allows you to specify the exact coordinates (x and y) where a widget should be placed within its container.\n",
    "   - It offers precise control over widget positioning and is useful for creating custom and pixel-precise layouts.\n",
    "   - Widgets are not automatically arranged in relation to one another, and their positions are explicitly defined.\n",
    "   - You can use `anchor` to specify the point on the widget that should align with the given coordinates.\n",
    "\n",
    "3. `grid` Geometry Manager:\n",
    "   - The `grid` geometry manager organizes widgets in a grid layout, similar to rows and columns in a table.\n",
    "   - It allows for more structured and organized layouts, making it easy to create complex grids of widgets.\n",
    "   - Widgets are placed in rows and columns and can span multiple rows and columns.\n",
    "   - You can control the alignment, padding, and expansion behavior of individual cells.\n",
    "   - Widgets added later with `grid` can be placed in specific rows and columns.\n",
    "\n",
    "Choosing the right geometry manager depends on the specific layout requirements of your GUI. Some guidelines to consider:\n",
    "\n",
    "- Use `pack` for simple layouts where widgets are stacked in a single column or row.\n",
    "- Use `place` for precise control when you need to specify exact coordinates.\n",
    "- Use `grid` for more complex layouts where widgets are organized in a grid, with rows and columns.\n",
    "\n",
    "In practice, you may also combine these geometry managers in the same GUI for different sections or regions of your interface."
   ]
  },
  {
   "cell_type": "markdown",
   "id": "7054531e",
   "metadata": {},
   "source": [
    "# place()"
   ]
  },
  {
   "cell_type": "markdown",
   "id": "65e5ac58",
   "metadata": {},
   "source": [
    "It allows you explicitly set the position and size of a window, either in absolute terms, or relative to another window."
   ]
  },
  {
   "cell_type": "code",
   "execution_count": 11,
   "id": "981b94c2",
   "metadata": {},
   "outputs": [],
   "source": [
    "from tkinter import *"
   ]
  },
  {
   "cell_type": "code",
   "execution_count": 12,
   "id": "e72c74cf",
   "metadata": {},
   "outputs": [],
   "source": [
    "root = Tk()"
   ]
  },
  {
   "cell_type": "code",
   "execution_count": 13,
   "id": "231b36b1",
   "metadata": {},
   "outputs": [
    {
     "data": {
      "text/plain": [
       "''"
      ]
     },
     "execution_count": 13,
     "metadata": {},
     "output_type": "execute_result"
    }
   ],
   "source": [
    "root.geometry(\"200x200\")"
   ]
  },
  {
   "cell_type": "code",
   "execution_count": 14,
   "id": "1be9604a",
   "metadata": {},
   "outputs": [],
   "source": [
    "b1 = Button(root , text = \"Click Me\")\n",
    "b1.place(relx = 1 , x = -2 , y = 2 , anchor = NE)\n",
    "\n",
    "l = Label(root, text = \"I'm a Label\")\n",
    "l.place(anchor = NW)\n",
    "\n",
    "b2 = Button(root, text = \"GFG\")\n",
    "b2.place(relx = 0.5, rely = 0.5, anchor = CENTER)\n",
    "\n",
    "\n",
    "\n",
    "mainloop()"
   ]
  },
  {
   "cell_type": "markdown",
   "id": "81ebd069",
   "metadata": {},
   "source": [
    "# grid()"
   ]
  },
  {
   "cell_type": "markdown",
   "id": "32083a67",
   "metadata": {},
   "source": [
    "The Grid geometry manager puts the widgets in a 2-dimensional table. The master widget is split into a number of rows and columns, and each “cell” in the resulting table can hold a widget."
   ]
  },
  {
   "cell_type": "code",
   "execution_count": 17,
   "id": "ecb7376d",
   "metadata": {},
   "outputs": [],
   "source": [
    "\n",
    "# import tkinter module\n",
    "from tkinter import * \n",
    "from tkinter.ttk import *\n",
    " \n",
    "# creating main tkinter window/toplevel\n",
    "master = Tk()\n",
    " \n",
    "# this will create a label widget\n",
    "l1 = Label(master, text = \"Height\")\n",
    "l2 = Label(master, text = \"Width\")\n",
    " \n",
    "# grid method to arrange labels in respective\n",
    "# rows and columns as specified\n",
    "l1.grid(row = 0, column = 0, sticky = W, pady = 2)\n",
    "l2.grid(row = 1, column = 0, sticky = W, pady = 2)\n",
    " \n",
    "# entry widgets, used to take entry from user\n",
    "e1 = Entry(master)\n",
    "e2 = Entry(master)\n",
    " \n",
    "# this will arrange entry widgets\n",
    "e1.grid(row = 0, column = 1, pady = 2)\n",
    "e2.grid(row = 1, column = 1, pady = 2)\n",
    " \n",
    "# checkbutton widget\n",
    "c1 = Checkbutton(master, text = \"Preserve\")\n",
    "c1.grid(row = 2, column = 0, sticky = W, columnspan = 2)\n",
    " \n",
    "# adding image (remember image should be PNG and not JPG)\n",
    "#img = PhotoImage(file = r\"C:\\Users\\Admin\\Pictures\\capture1.png\")\n",
    "#img1 = img.subsample(2, 2)\n",
    " \n",
    "# setting image with the help of label\n",
    "#Label(master, image = img1).grid(row = 0, column = 2,\n",
    "       #columnspan = 2, rowspan = 2, padx = 5, pady = 5)\n",
    " \n",
    "# button widget\n",
    "b1 = Button(master, text = \"Zoom in\")\n",
    "b2 = Button(master, text = \"Zoom out\")\n",
    " \n",
    "# arranging button widgets\n",
    "b1.grid(row = 2, column = 2, sticky = E)\n",
    "b2.grid(row = 2, column = 3, sticky = E)\n",
    " \n",
    "# infinite loop which can be terminated \n",
    "# by keyboard or mouse interrupt\n",
    "mainloop()\n"
   ]
  },
  {
   "cell_type": "markdown",
   "id": "43f2ee9f",
   "metadata": {},
   "source": [
    "# Pack()"
   ]
  },
  {
   "cell_type": "code",
   "execution_count": 18,
   "id": "81b54029",
   "metadata": {},
   "outputs": [],
   "source": [
    "\n",
    "# Importing tkinter module\n",
    "from tkinter import *\n",
    "# from tkinter.ttk import *\n",
    " \n",
    "# creating Tk window\n",
    "master = Tk()\n",
    " \n",
    "# creating a Fra, e which can expand according\n",
    "# to the size of the window\n",
    "pane = Frame(master)\n",
    "pane.pack(fill = BOTH, expand = True)\n",
    " \n",
    "# button widgets which can also expand and fill\n",
    "# in the parent widget entirely\n",
    "# Button 1\n",
    "b1 = Button(pane, text = \"Click me !\", \n",
    "            background = \"red\", fg = \"white\")\n",
    "b1.pack(side = TOP, expand = True, fill = BOTH)\n",
    " \n",
    "# Button 2\n",
    "b2 = Button(pane, text = \"Click me too\", \n",
    "            background = \"blue\", fg = \"white\")\n",
    "b2.pack(side = TOP, expand = True, fill = BOTH)\n",
    " \n",
    "# Button 3\n",
    "b3 = Button(pane, text = \"I'm also button\",\n",
    "            background = \"green\", fg = \"white\")\n",
    "b3.pack(side = TOP, expand = True, fill = BOTH)\n",
    " \n",
    "# Execute Tkinter\n",
    "master.mainloop()\n"
   ]
  },
  {
   "cell_type": "code",
   "execution_count": null,
   "id": "ee127858",
   "metadata": {},
   "outputs": [],
   "source": []
  }
 ],
 "metadata": {
  "kernelspec": {
   "display_name": "Python 3 (ipykernel)",
   "language": "python",
   "name": "python3"
  },
  "language_info": {
   "codemirror_mode": {
    "name": "ipython",
    "version": 3
   },
   "file_extension": ".py",
   "mimetype": "text/x-python",
   "name": "python",
   "nbconvert_exporter": "python",
   "pygments_lexer": "ipython3",
   "version": "3.11.3"
  }
 },
 "nbformat": 4,
 "nbformat_minor": 5
}
