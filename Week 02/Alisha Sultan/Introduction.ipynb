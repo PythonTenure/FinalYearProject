{
 "cells": [
  {
   "attachments": {
    "pik8.png": {
     "image/png": "[encoded data removed]"
    }
   },
   "cell_type": "markdown",
   "id": "5c178e66",
   "metadata": {},
   "source": [
    "# Tkinter:\n",
    "\n",
    "Graphical User Interface(GUI) is a form of user interface which allows users to interact with computers through visual indicators using items such as icons , menus , windows\n",
    "\n",
    "Tkinter is the inbuilt python module that is used to create GUI applications. You don’t need to worry about the installation of the Tkinter module separately as it comes with Python already.\n",
    "\n",
    "Some other python libraries available for creating our own GUI applications are:\n",
    "\n",
    "Kivy\n",
    "Python QT\n",
    "wxPython\n",
    "\n",
    "Common uses:\n",
    "\n",
    "Creating windows and dialog boxes\n",
    "Building a GUI for desktop applications\n",
    "Adding a GUI to a command-line program\n",
    "Create custom widgets\n",
    "Prototyping a GUI\n",
    "\n",
    "\n",
    "![pik8.png](attachment:pik8.png)\n",
    "\n",
    "\n",
    "\n",
    "\n",
    "\n",
    "\n",
    "\n",
    "\n"
   ]
  },
  {
   "cell_type": "markdown",
   "id": "2099b93c",
   "metadata": {},
   "source": [
    "This code creates a basic tkinter application with a single window containing a label that displays \"Hello World!\". The Tk() function creates the main window, and Label(root, text=\"Hello World!\") creates a label widget with the given text. pack() method is used to automatically adjust the widget's size to fit its content. Finally, mainloop() is called to start the application's event loop, which listens for user interactions and keeps the GUI window open.\n"
   ]
  },
  {
   "cell_type": "code",
   "execution_count": null,
   "id": "e95a0a29",
   "metadata": {},
   "outputs": [],
   "source": [
    "# Import the tkinter module for creating GUI applications\n",
    "from tkinter import *"
   ]
  },
  {
   "cell_type": "code",
   "execution_count": 2,
   "id": "271c6e2f",
   "metadata": {},
   "outputs": [],
   "source": [
    "# Import the tkinter.ttk module for themed widgets (not used in this code)\n",
    "from tkinter.ttk import *"
   ]
  },
  {
   "cell_type": "code",
   "execution_count": 3,
   "id": "6292cdf5",
   "metadata": {},
   "outputs": [
    {
     "data": {
      "text/plain": [
       "''"
      ]
     },
     "execution_count": 3,
     "metadata": {},
     "output_type": "execute_result"
    }
   ],
   "source": [
    "# Create the main application window\n",
    "root = Tk()"
   ]
  },
  {
   "cell_type": "code",
   "execution_count": 4,
   "id": "ad00cd07",
   "metadata": {},
   "outputs": [],
   "source": [
    "# Set the title of the window\n",
    "root.title(\"First_program\")"
   ]
  },
  {
   "cell_type": "code",
   "execution_count": null,
   "id": "05d90ba7",
   "metadata": {},
   "outputs": [],
   "source": [
    "# Create a Label widget and display \"Hello World!\" text in it\n",
    "label = Label(root, text=\"Hello World!\").pack()"
   ]
  },
  {
   "cell_type": "code",
   "execution_count": null,
   "id": "95bb00c9",
   "metadata": {},
   "outputs": [],
   "source": [
    "# Start the main event loop to display the GUI and handle user interactions\n",
    "root.mainloop()"
   ]
  },
  {
   "cell_type": "markdown",
   "id": "6d3afe42",
   "metadata": {},
   "source": [
    "# Widgets"
   ]
  },
  {
   "cell_type": "markdown",
   "id": "9085ba3e",
   "metadata": {},
   "source": [
    "In general,  Widget is an element of Graphical User Interface (GUI) that displays/illustrates information or gives a way for the user to interact with the OS.  In Tkinter , Widgets are objects ; instances of classes that represent buttons, frames, and so on.  \n",
    "\n",
    "Each separate widget is a Python object. When creating a widget, you must pass its parent as a parameter to the widget creation function. The only exception is the “root” window, which is the top-level window that will contain everything else and it does not have a parent. "
   ]
  },
  {
   "cell_type": "code",
   "execution_count": 1,
   "id": "b3c63f08",
   "metadata": {},
   "outputs": [],
   "source": [
    "from tkinter import *"
   ]
  },
  {
   "cell_type": "code",
   "execution_count": 2,
   "id": "ecdb6b9e",
   "metadata": {},
   "outputs": [],
   "source": [
    "root = Tk()"
   ]
  },
  {
   "cell_type": "code",
   "execution_count": 3,
   "id": "eed86312",
   "metadata": {},
   "outputs": [],
   "source": [
    "frame = Frame(root)"
   ]
  },
  {
   "cell_type": "code",
   "execution_count": 4,
   "id": "64972b34",
   "metadata": {},
   "outputs": [],
   "source": [
    "frame.pack()"
   ]
  },
  {
   "cell_type": "code",
   "execution_count": 5,
   "id": "e4c85231",
   "metadata": {},
   "outputs": [],
   "source": [
    "button = Button(frame , text = 'Geek')\n",
    "button.pack()"
   ]
  },
  {
   "cell_type": "code",
   "execution_count": 6,
   "id": "dbc6e70a",
   "metadata": {},
   "outputs": [],
   "source": [
    "root.mainloop()"
   ]
  },
  {
   "cell_type": "markdown",
   "id": "a2a9a614",
   "metadata": {},
   "source": [
    "# Hello World in Tkinter"
   ]
  },
  {
   "cell_type": "code",
   "execution_count": 7,
   "id": "cc48cd48",
   "metadata": {},
   "outputs": [],
   "source": [
    "from tkinter import *"
   ]
  },
  {
   "cell_type": "code",
   "execution_count": 8,
   "id": "cec4fb3d",
   "metadata": {},
   "outputs": [],
   "source": [
    "root = Tk()"
   ]
  },
  {
   "cell_type": "code",
   "execution_count": 9,
   "id": "60836d12",
   "metadata": {},
   "outputs": [],
   "source": [
    "label = Label(root , text = \"Hello World\")\n",
    "label.pack()"
   ]
  },
  {
   "cell_type": "code",
   "execution_count": 10,
   "id": "3dce96e7",
   "metadata": {},
   "outputs": [],
   "source": [
    "root.mainloop()"
   ]
  },
  {
   "cell_type": "markdown",
   "id": "70e4ccda",
   "metadata": {},
   "source": [
    "# Create First GUI Application using Python-Tkinter\n",
    "\n",
    "\n",
    "\n",
    "The grid() function is a geometry manager which keeps the label in the desired location inside the window. If no parameters are mentioned by default it will place it in the empty cell; that is 0,0 as that is the first location. "
   ]
  },
  {
   "cell_type": "code",
   "execution_count": 36,
   "id": "c77a768b",
   "metadata": {},
   "outputs": [],
   "source": [
    "from tkinter import *"
   ]
  },
  {
   "cell_type": "code",
   "execution_count": 37,
   "id": "2265666e",
   "metadata": {},
   "outputs": [],
   "source": [
    "root = Tk()"
   ]
  },
  {
   "cell_type": "code",
   "execution_count": 38,
   "id": "d72dc9ac",
   "metadata": {},
   "outputs": [
    {
     "data": {
      "text/plain": [
       "''"
      ]
     },
     "execution_count": 38,
     "metadata": {},
     "output_type": "execute_result"
    }
   ],
   "source": [
    "root.title(\"Welcome our First App\")"
   ]
  },
  {
   "cell_type": "code",
   "execution_count": 39,
   "id": "4d69ac33",
   "metadata": {},
   "outputs": [
    {
     "data": {
      "text/plain": [
       "''"
      ]
     },
     "execution_count": 39,
     "metadata": {},
     "output_type": "execute_result"
    }
   ],
   "source": [
    "root.geometry('350x200') # Set geometry(widthxheight)"
   ]
  },
  {
   "cell_type": "code",
   "execution_count": 48,
   "id": "3edf16ae",
   "metadata": {},
   "outputs": [],
   "source": [
    "lbl = Label(root,text = \"Are you a Student?\")#adding a label to the root window\n",
    "lbl.grid()"
   ]
  },
  {
   "cell_type": "code",
   "execution_count": 41,
   "id": "705415d9",
   "metadata": {},
   "outputs": [],
   "source": [
    "def clicked():\n",
    "    lbl.configure(text = \"I just got clicked\")\n",
    "    "
   ]
  },
  {
   "cell_type": "code",
   "execution_count": 42,
   "id": "55fd2853",
   "metadata": {},
   "outputs": [],
   "source": [
    "#Now add a button to the root window. Changing the button configurations gives us a lot of options.  In this example we will make the button display a text once it is clicked and also change the color of the text inside the button. \n",
    "\n",
    "btn = Button(root , text = \"Click me\" , fg = \"Blue\" , command = clicked)"
   ]
  },
  {
   "cell_type": "code",
   "execution_count": 43,
   "id": "0660e8cd",
   "metadata": {},
   "outputs": [],
   "source": [
    "btn.grid(column = 3 , row = 0)"
   ]
  },
  {
   "cell_type": "code",
   "execution_count": 44,
   "id": "b468982b",
   "metadata": {},
   "outputs": [],
   "source": [
    "root.mainloop()"
   ]
  },
  {
   "cell_type": "markdown",
   "id": "76513521",
   "metadata": {},
   "source": [
    "# Usage of Entry()\n",
    "\n",
    "\n",
    "Using the Entry() class we will create a text box for user input. To display the user input text, we’ll make changes to the function clicked(). We can get the user entered text using the get() function. When the Button after entering of the text, a default text concatenated with the user text. Also change button grid location to column 2 as Entry() will be column 1."
   ]
  },
  {
   "cell_type": "code",
   "execution_count": 66,
   "id": "4cf00a47",
   "metadata": {},
   "outputs": [],
   "source": [
    "from tkinter import *"
   ]
  },
  {
   "cell_type": "code",
   "execution_count": 67,
   "id": "71400ca1",
   "metadata": {},
   "outputs": [],
   "source": [
    "root = Tk()"
   ]
  },
  {
   "cell_type": "code",
   "execution_count": 68,
   "id": "2327d45b",
   "metadata": {},
   "outputs": [
    {
     "data": {
      "text/plain": [
       "''"
      ]
     },
     "execution_count": 68,
     "metadata": {},
     "output_type": "execute_result"
    }
   ],
   "source": [
    "root.title(\"Welcome our First App\")"
   ]
  },
  {
   "cell_type": "code",
   "execution_count": 69,
   "id": "0afe1eef",
   "metadata": {},
   "outputs": [
    {
     "data": {
      "text/plain": [
       "''"
      ]
     },
     "execution_count": 69,
     "metadata": {},
     "output_type": "execute_result"
    }
   ],
   "source": [
    "root.geometry('350x200') # Set geometry(widthxheight)"
   ]
  },
  {
   "cell_type": "code",
   "execution_count": 70,
   "id": "5ef06f82",
   "metadata": {},
   "outputs": [],
   "source": [
    "lbl = Label(root,text = \"Are you a Student?\")#adding a label to the root window\n",
    "lbl.grid()\n"
   ]
  },
  {
   "cell_type": "code",
   "execution_count": 71,
   "id": "61da265b",
   "metadata": {},
   "outputs": [],
   "source": [
    "txt = Entry(root , width = 10)\n",
    "txt.grid(column = 1,row = 0)"
   ]
  },
  {
   "cell_type": "code",
   "execution_count": 72,
   "id": "0af7b0cf",
   "metadata": {},
   "outputs": [],
   "source": [
    "def clicked():\n",
    "    res = \"You wrote    \"  + txt.get()\n",
    "    lbl.configure(text = res)\n",
    "    "
   ]
  },
  {
   "cell_type": "code",
   "execution_count": 73,
   "id": "38249793",
   "metadata": {},
   "outputs": [],
   "source": [
    "btn = Button(root , text = \"Click me\" , fg = \"Blue\" , command = clicked)"
   ]
  },
  {
   "cell_type": "code",
   "execution_count": 74,
   "id": "ba76571a",
   "metadata": {},
   "outputs": [],
   "source": [
    "btn.grid(column = 3 , row = 0)"
   ]
  },
  {
   "cell_type": "code",
   "execution_count": 75,
   "id": "868775e0",
   "metadata": {},
   "outputs": [],
   "source": [
    "root.mainloop()"
   ]
  },
  {
   "cell_type": "markdown",
   "id": "dfcadd02",
   "metadata": {},
   "source": [
    "# Menu Bar\n",
    "\n",
    "1. `menu = Menu(root)`: This line creates a `Menu` widget called `menu` and associates it with the main application window `root`. This `menu` widget will serve as the top-level menu bar.\n",
    "\n",
    "2. `item = Menu(menu)`: This line creates another `Menu` widget called `item`, which is a submenu. It is associated with the `menu` widget created in the previous step. `item` will contain menu items that will appear when you click on the \"File\" menu.\n",
    "\n",
    "3. `item.add_command(label='New')`: This line adds a menu item to the `item` submenu. The menu item is labeled \"New.\" This item doesn't have any associated functionality; it's just a simple command.\n",
    "\n",
    "4. `menu.add_cascade(label='File', menu=item)`: This line adds a cascade menu item labeled \"File\" to the main menu bar (`menu`). The cascade menu item doesn't do anything by itself but displays a submenu when clicked. The submenu it displays is the `item` submenu created earlier.\n",
    "\n",
    "5. `root.config(menu=menu)`: This line associates the `menu` widget with the main application window (`root`). This means that the `menu` will be displayed at the top of the application window, and when you click on \"File,\" it will show the submenu with the \"New\" menu item.\n"
   ]
  },
  {
   "cell_type": "code",
   "execution_count": 76,
   "id": "5d3fa988",
   "metadata": {},
   "outputs": [],
   "source": [
    "from tkinter import *"
   ]
  },
  {
   "cell_type": "code",
   "execution_count": 78,
   "id": "1f22a06b",
   "metadata": {},
   "outputs": [],
   "source": [
    "root = Tk()"
   ]
  },
  {
   "cell_type": "code",
   "execution_count": 79,
   "id": "9438d445",
   "metadata": {},
   "outputs": [
    {
     "data": {
      "text/plain": [
       "''"
      ]
     },
     "execution_count": 79,
     "metadata": {},
     "output_type": "execute_result"
    }
   ],
   "source": [
    "root.title(\"Welcome to our First App\")"
   ]
  },
  {
   "cell_type": "code",
   "execution_count": 81,
   "id": "510b48b5",
   "metadata": {},
   "outputs": [
    {
     "data": {
      "text/plain": [
       "''"
      ]
     },
     "execution_count": 81,
     "metadata": {},
     "output_type": "execute_result"
    }
   ],
   "source": [
    "root.geometry('450x300')"
   ]
  },
  {
   "cell_type": "code",
   "execution_count": 82,
   "id": "7e6e9ff2",
   "metadata": {},
   "outputs": [],
   "source": [
    "menu = Menu(root)"
   ]
  },
  {
   "cell_type": "code",
   "execution_count": 83,
   "id": "97d9a3e8",
   "metadata": {},
   "outputs": [],
   "source": [
    "item = Menu(menu)"
   ]
  },
  {
   "cell_type": "code",
   "execution_count": 84,
   "id": "cccfe04c",
   "metadata": {},
   "outputs": [],
   "source": [
    "item.add_command(label = \"New\")"
   ]
  },
  {
   "cell_type": "code",
   "execution_count": 85,
   "id": "90eae6f8",
   "metadata": {},
   "outputs": [],
   "source": [
    "menu.add_cascade(label = 'File' , menu = item)\n"
   ]
  },
  {
   "cell_type": "code",
   "execution_count": 86,
   "id": "5b31e518",
   "metadata": {},
   "outputs": [],
   "source": [
    "root.config(menu = menu)"
   ]
  },
  {
   "cell_type": "code",
   "execution_count": 87,
   "id": "fc5b1e8c",
   "metadata": {},
   "outputs": [],
   "source": [
    "root.mainloop()"
   ]
  },
  {
   "cell_type": "markdown",
   "id": "e4648297",
   "metadata": {},
   "source": [
    "# Button"
   ]
  },
  {
   "cell_type": "code",
   "execution_count": 88,
   "id": "82966882",
   "metadata": {},
   "outputs": [],
   "source": [
    "from tkinter import *"
   ]
  },
  {
   "cell_type": "code",
   "execution_count": 89,
   "id": "5f22f443",
   "metadata": {},
   "outputs": [],
   "source": [
    "root = Tk()"
   ]
  },
  {
   "cell_type": "code",
   "execution_count": 90,
   "id": "26129f84",
   "metadata": {},
   "outputs": [
    {
     "data": {
      "text/plain": [
       "''"
      ]
     },
     "execution_count": 90,
     "metadata": {},
     "output_type": "execute_result"
    }
   ],
   "source": [
    "root.title('Counting Seconds')"
   ]
  },
  {
   "cell_type": "code",
   "execution_count": 91,
   "id": "2aa14532",
   "metadata": {},
   "outputs": [],
   "source": [
    "button = Button(root , text = \"Stop\" , width = 25 , command = root.destroy)"
   ]
  },
  {
   "cell_type": "code",
   "execution_count": 92,
   "id": "997a3df2",
   "metadata": {},
   "outputs": [],
   "source": [
    "button.pack()"
   ]
  },
  {
   "cell_type": "code",
   "execution_count": 93,
   "id": "515219dc",
   "metadata": {},
   "outputs": [],
   "source": [
    "root.mainloop()"
   ]
  },
  {
   "cell_type": "markdown",
   "id": "d8c74e32",
   "metadata": {},
   "source": [
    "# CheckButton\n",
    "\n",
    "\n",
    "var1 = IntVar(): This line creates an instance of the IntVar class called var1. This variable is used to hold the state (selected or not selected) of the \"male\" Checkbutton.\n",
    "\n",
    "Checkbutton(master, text='male', variable=var1).grid(row=0, sticky=W): This line creates a Checkbutton widget labeled \"male.\" It is associated with the main window master, and the variable var1 is used to track its state (selected or not selected). The grid method is used to place the Checkbutton in a grid layout, and it specifies that this Checkbutton should be placed in the first row (row=0) and align to the west (sticky=W)."
   ]
  },
  {
   "cell_type": "code",
   "execution_count": 94,
   "id": "b22a06ff",
   "metadata": {},
   "outputs": [],
   "source": [
    "from tkinter import *"
   ]
  },
  {
   "cell_type": "code",
   "execution_count": 95,
   "id": "de9cded4",
   "metadata": {},
   "outputs": [],
   "source": [
    "root = Tk()"
   ]
  },
  {
   "cell_type": "code",
   "execution_count": 96,
   "id": "03327dba",
   "metadata": {},
   "outputs": [],
   "source": [
    "var1 = IntVar()"
   ]
  },
  {
   "cell_type": "code",
   "execution_count": 97,
   "id": "922d24eb",
   "metadata": {},
   "outputs": [],
   "source": [
    "Checkbutton(root , text = 'male' , variable = var1).grid(row = 1, sticky = W)\n"
   ]
  },
  {
   "cell_type": "code",
   "execution_count": 98,
   "id": "f1223b5a",
   "metadata": {},
   "outputs": [],
   "source": [
    "var2 = IntVar()"
   ]
  },
  {
   "cell_type": "code",
   "execution_count": 99,
   "id": "af411541",
   "metadata": {},
   "outputs": [],
   "source": [
    "Checkbutton(root , text = 'Female' , variable = var2).grid(row = 3, sticky = W)\n"
   ]
  },
  {
   "cell_type": "code",
   "execution_count": 100,
   "id": "0431ba6b",
   "metadata": {},
   "outputs": [],
   "source": [
    "root.mainloop()"
   ]
  },
  {
   "cell_type": "markdown",
   "id": "7c2b8eed",
   "metadata": {},
   "source": [
    "# Frame"
   ]
  },
  {
   "cell_type": "code",
   "execution_count": 111,
   "id": "7324c859",
   "metadata": {},
   "outputs": [],
   "source": [
    "from tkinter import *"
   ]
  },
  {
   "cell_type": "code",
   "execution_count": 112,
   "id": "3f837e2c",
   "metadata": {},
   "outputs": [],
   "source": [
    "root = Tk()"
   ]
  },
  {
   "cell_type": "code",
   "execution_count": 113,
   "id": "74180a5e",
   "metadata": {},
   "outputs": [],
   "source": [
    "frame = Frame(root)"
   ]
  },
  {
   "cell_type": "code",
   "execution_count": 114,
   "id": "151c340c",
   "metadata": {},
   "outputs": [],
   "source": [
    "frame.pack()"
   ]
  },
  {
   "cell_type": "code",
   "execution_count": 115,
   "id": "6e7a814a",
   "metadata": {},
   "outputs": [],
   "source": [
    "bottomframe = Frame(root)"
   ]
  },
  {
   "cell_type": "code",
   "execution_count": 117,
   "id": "5ad28f69",
   "metadata": {},
   "outputs": [],
   "source": [
    "bottomframe.pack(side = BOTTOM)\n"
   ]
  },
  {
   "cell_type": "code",
   "execution_count": 118,
   "id": "ce11f7a0",
   "metadata": {},
   "outputs": [],
   "source": [
    "redbutton = Button(frame, text = 'Red', fg ='red') \n",
    "redbutton.pack( side = LEFT) \n",
    "greenbutton = Button(frame, text = 'Brown', fg='brown') \n",
    "greenbutton.pack( side = LEFT ) \n",
    "bluebutton = Button(frame, text ='Blue', fg ='blue') \n",
    "bluebutton.pack( side = LEFT ) \n",
    "blackbutton = Button(bottomframe, text ='Black', fg ='black') \n",
    "blackbutton.pack( side = BOTTOM) \n"
   ]
  },
  {
   "cell_type": "code",
   "execution_count": 119,
   "id": "5c52e265",
   "metadata": {},
   "outputs": [],
   "source": [
    "root.mainloop() "
   ]
  },
  {
   "cell_type": "markdown",
   "id": "e4caa9aa",
   "metadata": {},
   "source": [
    "# Listbox"
   ]
  },
  {
   "cell_type": "code",
   "execution_count": 120,
   "id": "519ff3e3",
   "metadata": {},
   "outputs": [],
   "source": [
    "from tkinter import *"
   ]
  },
  {
   "cell_type": "code",
   "execution_count": 121,
   "id": "7b102b34",
   "metadata": {},
   "outputs": [],
   "source": [
    "top = Tk()"
   ]
  },
  {
   "cell_type": "code",
   "execution_count": 122,
   "id": "9956ccdd",
   "metadata": {},
   "outputs": [],
   "source": [
    "Lb = Listbox(top)"
   ]
  },
  {
   "cell_type": "code",
   "execution_count": 123,
   "id": "7b3bcb2a",
   "metadata": {},
   "outputs": [],
   "source": [
    "Lb.insert(1, 'Python') \n",
    "Lb.insert(2, 'Java') \n",
    "Lb.insert(3, 'C++') \n",
    "Lb.insert(4, 'Any other') \n",
    "Lb.pack() "
   ]
  },
  {
   "cell_type": "code",
   "execution_count": 124,
   "id": "3164a0d0",
   "metadata": {},
   "outputs": [],
   "source": [
    "top.mainloop()"
   ]
  },
  {
   "cell_type": "markdown",
   "id": "7d00dcc2",
   "metadata": {},
   "source": [
    "# Message"
   ]
  },
  {
   "cell_type": "code",
   "execution_count": 125,
   "id": "55c2c9dc",
   "metadata": {},
   "outputs": [],
   "source": [
    "\n",
    "from tkinter import *\n",
    "main = Tk() \n",
    "ourMessage ='This is our Message'\n",
    "messageVar = Message(main, text = ourMessage) \n",
    "messageVar.config(bg='lightgreen') \n",
    "messageVar.pack( ) \n",
    "main.mainloop( ) \n"
   ]
  },
  {
   "cell_type": "markdown",
   "id": "5adf3aee",
   "metadata": {},
   "source": [
    "# RadioButton\n",
    "\n",
    "In tkinter and many other GUI libraries, anchor is typically used to specify the alignment or anchoring of widgets within a container. The value W usually represents \"west\" or \"left\" alignment, which means the widget or text is aligned to the left side of its container."
   ]
  },
  {
   "cell_type": "code",
   "execution_count": 126,
   "id": "2ec5bc5c",
   "metadata": {},
   "outputs": [],
   "source": [
    "from tkinter import *\n",
    "root = Tk() \n",
    "v = IntVar() \n",
    "Radiobutton(root, text='GfG', variable=v, value=1).pack(anchor=W) \n",
    "Radiobutton(root, text='MIT', variable=v, value=2).pack(anchor=W) \n",
    "mainloop() \n"
   ]
  },
  {
   "cell_type": "markdown",
   "id": "c5e1a1a4",
   "metadata": {},
   "source": [
    "# TopLevel\n",
    "\n",
    "In tkinter, a Toplevel widget is a top-level window that is typically used to create additional windows or dialogs in your graphical user interface (GUI) application. These windows are separate from the main application window and behave like independent windows. "
   ]
  },
  {
   "cell_type": "code",
   "execution_count": 127,
   "id": "9128c663",
   "metadata": {},
   "outputs": [],
   "source": [
    "from tkinter import *\n",
    "root = Tk() \n",
    "root.title('GfG') \n",
    "top = Toplevel() \n",
    "top.title('Python') \n",
    "top.mainloop() \n"
   ]
  },
  {
   "cell_type": "markdown",
   "id": "24211f21",
   "metadata": {},
   "source": [
    "# SpinBox"
   ]
  },
  {
   "cell_type": "code",
   "execution_count": 128,
   "id": "84effad9",
   "metadata": {},
   "outputs": [],
   "source": [
    "\n",
    "from tkinter import *\n",
    "master = Tk() \n",
    "w = Spinbox(master, from_ = 0, to = 10) \n",
    "w.pack() \n",
    "mainloop() \n"
   ]
  },
  {
   "cell_type": "code",
   "execution_count": null,
   "id": "6222a61b",
   "metadata": {},
   "outputs": [],
   "source": []
  }
 ],
 "metadata": {
  "kernelspec": {
   "display_name": "Python 3 (ipykernel)",
   "language": "python",
   "name": "python3"
  },
  "language_info": {
   "codemirror_mode": {
    "name": "ipython",
    "version": 3
   },
   "file_extension": ".py",
   "mimetype": "text/x-python",
   "name": "python",
   "nbconvert_exporter": "python",
   "pygments_lexer": "ipython3",
   "version": "3.11.3"
  }
 },
 "nbformat": 4,
 "nbformat_minor": 5
}
