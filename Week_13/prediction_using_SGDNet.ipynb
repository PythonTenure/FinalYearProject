{
 "cells": [
  {
   "cell_type": "code",
   "execution_count": null,
   "id": "29c82f12-f210-478e-8d35-e5990bc2ad6e",
   "metadata": {},
   "outputs": [],
   "source": [
    "# Part 1: Setup and Data Preparation"
   ]
  },
  {
   "cell_type": "code",
   "execution_count": 3,
   "id": "1a487e95-809a-4f15-ad32-4fb018319c49",
   "metadata": {},
   "outputs": [
    {
     "name": "stdout",
     "output_type": "stream",
     "text": [
      "Data shape for model input: (274576, 1, 9)\n"
     ]
    }
   ],
   "source": [
    "import os\n",
    "import numpy as np\n",
    "from pyrsgis import raster, convert\n",
    "from sklearn.preprocessing import StandardScaler\n",
    "\n",
    "# Change the directory\n",
    "os.chdir(\"/home/usmanghias/UsmanGhias/Final_Year_Project/Deep_Learning/Sample_data\")\n",
    "\n",
    "# Assign file names\n",
    "prediction = 'image50.tif'\n",
    "\n",
    "# Read the raster as an array\n",
    "ds3, prediction_data = raster.read(prediction, bands='all')\n",
    "prediction_data = convert.array_to_table(prediction_data)  # Convert raster to table\n",
    "\n",
    "# Standardize the prediction data\n",
    "scaler = StandardScaler()\n",
    "prediction_data = scaler.fit_transform(prediction_data)\n",
    "\n",
    "# Reshape the data for the model input\n",
    "prediction_data = prediction_data.reshape((prediction_data.shape[0], 1, prediction_data.shape[1]))\n",
    "\n",
    "# Print the shape of the reshaped data\n",
    "print(\"Data shape for model input:\", prediction_data.shape)\n"
   ]
  },
  {
   "cell_type": "code",
   "execution_count": 4,
   "id": "fac11699-32f5-4ce3-af4e-ba88a687d920",
   "metadata": {},
   "outputs": [],
   "source": [
    "# Part 2: Load the Pre-Trained Model\n"
   ]
  },
  {
   "cell_type": "code",
   "execution_count": 5,
   "id": "36a546bc-e590-474d-9692-a5771eb1049c",
   "metadata": {},
   "outputs": [
    {
     "name": "stderr",
     "output_type": "stream",
     "text": [
      "WARNING:absl:Compiled the loaded model, but the compiled metrics have yet to be built. `model.compile_metrics` will be empty until you train or evaluate the model.\n",
      "WARNING:absl:Error in loading the saved optimizer state. As a result, your model is starting with a freshly initialized optimizer.\n"
     ]
    }
   ],
   "source": [
    "import tensorflow as tf\n",
    "\n",
    "# Load the pre-trained model\n",
    "model_path = '/home/usmanghias/UsmanGhias/Final_Year_Project/Deep_Learning/Script/SGDNet.h5'\n",
    "if not os.path.exists(model_path):\n",
    "    raise FileNotFoundError(f\"The model file {model_path} does not exist.\")\n",
    "model = tf.keras.models.load_model(model_path)\n"
   ]
  },
  {
   "cell_type": "code",
   "execution_count": null,
   "id": "e0e65e18-e722-4a87-b8f5-e84f4dfe3fb7",
   "metadata": {},
   "outputs": [],
   "source": [
    "# Part 3: Make Predictions"
   ]
  },
  {
   "cell_type": "code",
   "execution_count": 6,
   "id": "7d1f658e-69ed-4c55-8766-ed6152c314c9",
   "metadata": {},
   "outputs": [
    {
     "name": "stdout",
     "output_type": "stream",
     "text": [
      "\u001b[1m8581/8581\u001b[0m \u001b[32m━━━━━━━━━━━━━━━━━━━━\u001b[0m\u001b[37m\u001b[0m \u001b[1m33s\u001b[0m 4ms/step\n"
     ]
    }
   ],
   "source": [
    "# Predict new data and extract the probability for the second class\n",
    "predicted = model.predict(prediction_data)\n",
    "predicted_prob = predicted[:, 1]  # Assuming binary classification\n"
   ]
  },
  {
   "cell_type": "code",
   "execution_count": null,
   "id": "727cd0b5-d02a-4b27-9429-d199a646cbb2",
   "metadata": {},
   "outputs": [],
   "source": [
    "# Part 4: Export the Prediction Results"
   ]
  },
  {
   "cell_type": "code",
   "execution_count": 7,
   "id": "82c0ec20-9c28-4dc6-bd4b-79eabf8e2737",
   "metadata": {},
   "outputs": [
    {
     "name": "stdout",
     "output_type": "stream",
     "text": [
      "Output saved at: /home/usmanghias/UsmanGhias/Final_Year_Project/Deep_Learning/prediction.tif\n"
     ]
    }
   ],
   "source": [
    "from pyrsgis.raster import export\n",
    "\n",
    "# Reshape the predicted probabilities back to the original raster shape\n",
    "predicted_prob = np.reshape(predicted_prob, (ds3.RasterYSize, ds3.RasterXSize))\n",
    "\n",
    "# Define output file path\n",
    "outFile = '/home/usmanghias/UsmanGhias/Final_Year_Project/GitHub/FinalYearProject/Week\n",
    "\n",
    "# Export the probability raster\n",
    "raster.export(predicted_prob, ds3, filename=outFile, dtype='float')\n",
    "print(\"Output saved at:\", outFile)\n"
   ]
  },
  {
   "cell_type": "code",
   "execution_count": null,
   "id": "fe628ea0-3af3-404f-ba35-2bfb235a72ba",
   "metadata": {},
   "outputs": [],
   "source": []
  },
  {
   "cell_type": "code",
   "execution_count": null,
   "id": "e0d62639-cb6c-4b2e-8fea-0a2fd2b0be79",
   "metadata": {},
   "outputs": [],
   "source": []
  },
  {
   "cell_type": "code",
   "execution_count": null,
   "id": "55761666-38a6-40a7-ad22-76ba9098c371",
   "metadata": {},
   "outputs": [],
   "source": []
  },
  {
   "cell_type": "code",
   "execution_count": null,
   "id": "c1f096f6-6d65-4065-b13e-c53148ebc83d",
   "metadata": {},
   "outputs": [],
   "source": []
  },
  {
   "cell_type": "code",
   "execution_count": null,
   "id": "45fd88d8-e6e1-4eaa-bb67-c8cf60427e0c",
   "metadata": {},
   "outputs": [],
   "source": []
  },
  {
   "cell_type": "code",
   "execution_count": null,
   "id": "6fc0ae94-521e-4291-bf9f-0e1d9dee3cef",
   "metadata": {},
   "outputs": [],
   "source": []
  },
  {
   "cell_type": "code",
   "execution_count": null,
   "id": "30cc4cc8-dd94-400e-bec1-dfdbb84640ca",
   "metadata": {},
   "outputs": [],
   "source": []
  },
  {
   "cell_type": "code",
   "execution_count": null,
   "id": "38d7fcf9-cd92-4ea2-bc01-9490a4f4a208",
   "metadata": {},
   "outputs": [],
   "source": []
  },
  {
   "cell_type": "code",
   "execution_count": null,
   "id": "5b904c27-2ce2-4770-bfea-a50c665b5124",
   "metadata": {},
   "outputs": [],
   "source": []
  },
  {
   "cell_type": "code",
   "execution_count": null,
   "id": "37e0d577-9e3f-4c58-9dc4-cfdf3ddbe815",
   "metadata": {},
   "outputs": [],
   "source": []
  },
  {
   "cell_type": "code",
   "execution_count": null,
   "id": "eff83d91-2893-4142-8145-6e8b7b2f816a",
   "metadata": {},
   "outputs": [],
   "source": []
  }
 ],
 "metadata": {
  "kernelspec": {
   "display_name": "Python 3 (ipykernel)",
   "language": "python",
   "name": "python3"
  },
  "language_info": {
   "codemirror_mode": {
    "name": "ipython",
    "version": 3
   },
   "file_extension": ".py",
   "mimetype": "text/x-python",
   "name": "python",
   "nbconvert_exporter": "python",
   "pygments_lexer": "ipython3",
   "version": "3.10.12"
  }
 },
 "nbformat": 4,
 "nbformat_minor": 5
}
