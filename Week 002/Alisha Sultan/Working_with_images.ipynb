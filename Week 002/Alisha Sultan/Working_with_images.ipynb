{
 "cells": [
  {
   "cell_type": "markdown",
   "id": "b90764c1",
   "metadata": {},
   "source": [
    "# Reading images with Python Tkinter"
   ]
  },
  {
   "cell_type": "markdown",
   "id": "5df3a617",
   "metadata": {},
   "source": [
    "In order to do various operations and manipulations on images, we require Python Pillow package. If the Pillow package is not present in the system then it can be installed using the below command.\n",
    "\n",
    "    In Command prompt:\n",
    "\n",
    "    pip install Pillow\n",
    "\n",
    "    In Anaconda prompt:\n",
    "\n",
    "    conda install -c anaconda pillow\n",
    "\n"
   ]
  },
  {
   "cell_type": "code",
   "execution_count": 1,
   "id": "791f547c",
   "metadata": {},
   "outputs": [
    {
     "name": "stdout",
     "output_type": "stream",
     "text": [
      "Requirement already satisfied: pillow in ./anaconda3/lib/python3.11/site-packages (9.4.0)\r\n"
     ]
    }
   ],
   "source": [
    "!pip install pillow"
   ]
  },
  {
   "cell_type": "markdown",
   "id": "d7910d6c",
   "metadata": {},
   "source": [
    "The ImageTk module contains support to create and modify Tkinter BitmapImage and PhotoImage objects from PIL images "
   ]
  },
  {
   "cell_type": "code",
   "execution_count": 11,
   "id": "d8c55638",
   "metadata": {},
   "outputs": [],
   "source": [
    "from tkinter import *\n",
    "from PIL import ImageTk , Image\n",
    "import os"
   ]
  },
  {
   "cell_type": "code",
   "execution_count": 12,
   "id": "5ff2fd6b",
   "metadata": {},
   "outputs": [],
   "source": [
    "root = Tk()"
   ]
  },
  {
   "cell_type": "code",
   "execution_count": null,
   "id": "60fa8364",
   "metadata": {},
   "outputs": [],
   "source": [
    "#Load the image"
   ]
  },
  {
   "cell_type": "code",
   "execution_count": 13,
   "id": "984dfe94",
   "metadata": {},
   "outputs": [],
   "source": [
    "img = ImageTk.PhotoImage(Image.open(\"hamburger.png\"))"
   ]
  },
  {
   "cell_type": "code",
   "execution_count": null,
   "id": "7b19470b",
   "metadata": {},
   "outputs": [],
   "source": [
    "#reading the image"
   ]
  },
  {
   "cell_type": "code",
   "execution_count": 14,
   "id": "7decde4e",
   "metadata": {},
   "outputs": [],
   "source": [
    "panel = tkinter.Label(root , image = img)"
   ]
  },
  {
   "cell_type": "code",
   "execution_count": 15,
   "id": "d9906f4e",
   "metadata": {},
   "outputs": [],
   "source": [
    "panel.pack(side = \"bottom\" , fill = \"both\" , expand = \"yes\")"
   ]
  },
  {
   "cell_type": "code",
   "execution_count": 16,
   "id": "124cdba2",
   "metadata": {},
   "outputs": [],
   "source": [
    "root.mainloop()"
   ]
  },
  {
   "cell_type": "markdown",
   "id": "60335677",
   "metadata": {},
   "source": [
    "Let us look at another example where we arrange the image parameters along with application parameters."
   ]
  },
  {
   "cell_type": "code",
   "execution_count": 66,
   "id": "9148a5d5",
   "metadata": {},
   "outputs": [],
   "source": [
    "from tkinter import *"
   ]
  },
  {
   "cell_type": "code",
   "execution_count": 67,
   "id": "758cfbcc",
   "metadata": {},
   "outputs": [],
   "source": [
    "from PIL import ImageTk , Image"
   ]
  },
  {
   "cell_type": "code",
   "execution_count": 68,
   "id": "7c1153b9",
   "metadata": {},
   "outputs": [],
   "source": [
    "root = Tk()"
   ]
  },
  {
   "cell_type": "code",
   "execution_count": 69,
   "id": "e404409c",
   "metadata": {},
   "outputs": [],
   "source": [
    "# arranging application parameters "
   ]
  },
  {
   "cell_type": "code",
   "execution_count": 70,
   "id": "69f08abe",
   "metadata": {},
   "outputs": [],
   "source": [
    "canvas = Canvas(root , width = 1200 , height = 600)"
   ]
  },
  {
   "cell_type": "code",
   "execution_count": 71,
   "id": "fb591d4e",
   "metadata": {},
   "outputs": [],
   "source": [
    "canvas.pack()"
   ]
  },
  {
   "cell_type": "code",
   "execution_count": 72,
   "id": "f20ed194",
   "metadata": {},
   "outputs": [],
   "source": [
    "img = ImageTk.PhotoImage(Image.open(\"hamburger.png\"))"
   ]
  },
  {
   "cell_type": "code",
   "execution_count": 73,
   "id": "956d99ab",
   "metadata": {},
   "outputs": [
    {
     "data": {
      "text/plain": [
       "1"
      ]
     },
     "execution_count": 73,
     "metadata": {},
     "output_type": "execute_result"
    }
   ],
   "source": [
    "canvas.create_image(155 , 30 , anchor = NW , image = img)"
   ]
  },
  {
   "cell_type": "code",
   "execution_count": 74,
   "id": "a118acb9",
   "metadata": {},
   "outputs": [],
   "source": [
    "root.mainloop()"
   ]
  },
  {
   "cell_type": "markdown",
   "id": "c192708e",
   "metadata": {},
   "source": [
    "The Canvas method create_image(x0,y0, options …) is used to draw an image on a canvas. create_image doesn’t accept an image directly. It uses an object which is created by the PhotoImage() method. The PhotoImage class can only read GIF and PGM/PPM images from files."
   ]
  },
  {
   "cell_type": "markdown",
   "id": "17c0ade4",
   "metadata": {},
   "source": [
    "# iconphoto() method in Tkinter"
   ]
  },
  {
   "cell_type": "markdown",
   "id": "8c6cf2d1",
   "metadata": {},
   "source": [
    "Set the titlebar icon for this window based on the named photo images passed through args. If default is True, this is applied to all future created toplevels as well. The data in the images is taken as a snapshot at the time of invocation. If the images are later changed, this is not reflected in the titlebar icons. The function also scales provided icons to an appropriate size."
   ]
  },
  {
   "cell_type": "code",
   "execution_count": 78,
   "id": "67112319",
   "metadata": {},
   "outputs": [],
   "source": [
    "# Importing Tkinter module \n",
    "from tkinter import *\n",
    "from tkinter.ttk import *\n",
    "  \n",
    "# Creating master Tkinter window \n",
    "master = Tk() \n",
    "  \n",
    "# Creating object of photoimage class \n",
    "# Image should be in the same folder \n",
    "# in which script is saved \n",
    "p1 = PhotoImage(file = 'hamburger.png') \n",
    "  \n",
    "# Setting icon of master window \n",
    "master.iconphoto(False, p1) \n",
    "  \n",
    "# Creating button \n",
    "b = Button(master, text = 'Click me !') \n",
    "b.pack(side = TOP) \n",
    "  \n",
    "# Infinite loop can be terminated by \n",
    "# keyboard or mouse interrupt \n",
    "# or by any predefined function (destroy()) \n",
    "mainloop() \n"
   ]
  },
  {
   "cell_type": "markdown",
   "id": "d2dca267",
   "metadata": {},
   "source": [
    "# How To Use Images as Backgrounds"
   ]
  },
  {
   "cell_type": "code",
   "execution_count": 79,
   "id": "9d1130e4",
   "metadata": {},
   "outputs": [],
   "source": [
    "\n",
    "# Import module  \n",
    "from tkinter import *\n",
    "  \n",
    "# Create object  \n",
    "root = Tk() \n",
    "  \n",
    "# Adjust size  \n",
    "root.geometry(\"400x400\") \n",
    "  \n",
    "# Add image file \n",
    "bg = PhotoImage( file = \"hamburger.png\") \n",
    "  \n",
    "# Show image using label \n",
    "label1 = Label( root, image = bg) \n",
    "label1.place(x = 0,y = 0) \n",
    "  \n",
    "# Add text \n",
    "label2 = Label( root, text = \"Welcome\", \n",
    "               bg = \"#88cffa\") \n",
    "  \n",
    "label2.pack(pady = 50) \n",
    "  \n",
    "# Create Frame \n",
    "frame1 = Frame( root, bg = \"#88cffa\") \n",
    "frame1.pack(pady = 20) \n",
    "  \n",
    "# Add buttons \n",
    "button1 = Button( frame1, text = \"Exit\") \n",
    "button1.pack(pady = 20) \n",
    "  \n",
    "button2 = Button( frame1, text = \"Start\") \n",
    "button2.pack(pady = 20) \n",
    "  \n",
    "button3 = Button( frame1, text = \"Reset\") \n",
    "button3.pack(pady = 20) \n",
    "  \n",
    "# Execute tkinter \n",
    "root.mainloop()\n"
   ]
  },
  {
   "cell_type": "code",
   "execution_count": 83,
   "id": "ae48b921",
   "metadata": {},
   "outputs": [],
   "source": [
    "# Import module  \n",
    "from tkinter import *\n",
    "  \n",
    "# Create object  \n",
    "root = Tk() \n",
    "  \n",
    "# Adjust size  \n",
    "root.geometry(\"400x400\") \n",
    "  \n",
    "# Add image file \n",
    "bg = PhotoImage(file = \"hamburger.png\") \n",
    "  \n",
    "# Create Canvas \n",
    "canvas1 = Canvas( root, width = 400, \n",
    "                 height = 400) \n",
    "  \n",
    "canvas1.pack(fill = \"both\", expand = True) \n",
    "  \n",
    "# Display image \n",
    "canvas1.create_image( 0, 0, image = bg,  \n",
    "                     anchor = \"nw\") \n",
    "  \n",
    "# Add Text \n",
    "canvas1.create_text( 250, 220, text = \"Welcome\") \n",
    "  \n",
    "# Create Buttons \n",
    "button1 = Button( root, text = \"Exit\") \n",
    "button3 = Button( root, text = \"Start\") \n",
    "button2 = Button( root, text = \"Reset\") \n",
    "  \n",
    "# Display Buttons \n",
    "button1_canvas = canvas1.create_window( 100, 10,  \n",
    "                                       anchor = \"nw\", \n",
    "                                       window = button1) \n",
    "  \n",
    "button2_canvas = canvas1.create_window( 100, 40, \n",
    "                                       anchor = \"nw\", \n",
    "                                       window = button2) \n",
    "  \n",
    "button3_canvas = canvas1.create_window( 100, 70, anchor = \"nw\", \n",
    "                                       window = button3) \n",
    "  \n",
    "# Execute tkinter \n",
    "root.mainloop()"
   ]
  },
  {
   "cell_type": "code",
   "execution_count": null,
   "id": "a064137a",
   "metadata": {},
   "outputs": [],
   "source": []
  }
 ],
 "metadata": {
  "kernelspec": {
   "display_name": "Python 3 (ipykernel)",
   "language": "python",
   "name": "python3"
  },
  "language_info": {
   "codemirror_mode": {
    "name": "ipython",
    "version": 3
   },
   "file_extension": ".py",
   "mimetype": "text/x-python",
   "name": "python",
   "nbconvert_exporter": "python",
   "pygments_lexer": "ipython3",
   "version": "3.11.3"
  }
 },
 "nbformat": 4,
 "nbformat_minor": 5
}
