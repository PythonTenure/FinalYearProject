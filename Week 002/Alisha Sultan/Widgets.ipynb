{
 "cells": [
  {
   "cell_type": "markdown",
   "id": "39180170",
   "metadata": {},
   "source": [
    "# Widgets"
   ]
  },
  {
   "cell_type": "markdown",
   "id": "985bfb4e",
   "metadata": {},
   "source": [
    "# Creating button using Tkinter\n",
    "\n",
    "\n",
    "Creation of Button without using tk themed widget. \n"
   ]
  },
  {
   "cell_type": "code",
   "execution_count": 42,
   "id": "8474a42a",
   "metadata": {},
   "outputs": [],
   "source": [
    "from tkinter import *"
   ]
  },
  {
   "cell_type": "code",
   "execution_count": 43,
   "id": "a355b56e",
   "metadata": {},
   "outputs": [],
   "source": [
    "root = Tk()"
   ]
  },
  {
   "cell_type": "code",
   "execution_count": 44,
   "id": "220f2766",
   "metadata": {},
   "outputs": [
    {
     "data": {
      "text/plain": [
       "''"
      ]
     },
     "execution_count": 44,
     "metadata": {},
     "output_type": "execute_result"
    }
   ],
   "source": [
    "root.geometry('100x100')"
   ]
  },
  {
   "cell_type": "code",
   "execution_count": 45,
   "id": "dcb8e154",
   "metadata": {},
   "outputs": [],
   "source": [
    "# It is specified in pixels, so if you set \"bd=5\" for a widget, it means that there will be a 5-pixel wide border around that widget."
   ]
  },
  {
   "cell_type": "code",
   "execution_count": 46,
   "id": "30207238",
   "metadata": {},
   "outputs": [],
   "source": [
    "btn = Button(root , text = 'Click me' , bd = '5' , command = root.destroy)"
   ]
  },
  {
   "cell_type": "code",
   "execution_count": 47,
   "id": "8c3387a7",
   "metadata": {},
   "outputs": [],
   "source": [
    "btn.pack(side = 'top')"
   ]
  },
  {
   "cell_type": "code",
   "execution_count": 48,
   "id": "2b914904",
   "metadata": {},
   "outputs": [],
   "source": [
    "root.mainloop()"
   ]
  },
  {
   "cell_type": "markdown",
   "id": "294f0b61",
   "metadata": {},
   "source": [
    "# Creation of Button using tk themed widget (tkinter.ttk). This will give you the effects of modern graphics. Effects will change from one OS to another because it is basically for the appearance."
   ]
  },
  {
   "cell_type": "code",
   "execution_count": 34,
   "id": "e041074c",
   "metadata": {},
   "outputs": [],
   "source": [
    "from tkinter import *"
   ]
  },
  {
   "cell_type": "code",
   "execution_count": 35,
   "id": "8da9c343",
   "metadata": {},
   "outputs": [],
   "source": [
    "# Following will import tkinter.ttk module and \n",
    "# automatically override all the widgets \n",
    "# which are present in tkinter module. "
   ]
  },
  {
   "cell_type": "code",
   "execution_count": 36,
   "id": "2111d8c7",
   "metadata": {},
   "outputs": [],
   "source": [
    "from tkinter.ttk import *"
   ]
  },
  {
   "cell_type": "code",
   "execution_count": 37,
   "id": "188b9a5d",
   "metadata": {},
   "outputs": [],
   "source": [
    "root = Tk()"
   ]
  },
  {
   "cell_type": "code",
   "execution_count": 38,
   "id": "9ddf6a0f",
   "metadata": {},
   "outputs": [
    {
     "data": {
      "text/plain": [
       "''"
      ]
     },
     "execution_count": 38,
     "metadata": {},
     "output_type": "execute_result"
    }
   ],
   "source": [
    "root.geometry('100x100')"
   ]
  },
  {
   "cell_type": "code",
   "execution_count": 39,
   "id": "87108735",
   "metadata": {},
   "outputs": [],
   "source": [
    "btn = Button(root , text = 'Click me', command = root.destroy)"
   ]
  },
  {
   "cell_type": "code",
   "execution_count": 40,
   "id": "91e863c0",
   "metadata": {},
   "outputs": [],
   "source": [
    "btn.pack(side = 'top')"
   ]
  },
  {
   "cell_type": "code",
   "execution_count": 41,
   "id": "b141ac41",
   "metadata": {},
   "outputs": [],
   "source": [
    "root.mainloop()"
   ]
  },
  {
   "cell_type": "markdown",
   "id": "d323329c",
   "metadata": {},
   "source": [
    "See in the Output of both the code, BORDER is not present in 2nd output because tkinter.ttk does not support border. "
   ]
  },
  {
   "cell_type": "markdown",
   "id": "38d62a7c",
   "metadata": {},
   "source": [
    "# Add Style to Tkinter Button\n",
    "\n",
    "To add styling on the ttk.Button we cannot directly pass the value in the options. Firstly, we have to create a Style object which can be created as follows: \n",
    "\n"
   ]
  },
  {
   "cell_type": "code",
   "execution_count": 90,
   "id": "b17319f2",
   "metadata": {},
   "outputs": [],
   "source": [
    "from tkinter import *"
   ]
  },
  {
   "cell_type": "code",
   "execution_count": 91,
   "id": "0d92d3bf",
   "metadata": {},
   "outputs": [],
   "source": [
    "from tkinter.ttk import *"
   ]
  },
  {
   "cell_type": "code",
   "execution_count": 92,
   "id": "a06d158f",
   "metadata": {},
   "outputs": [],
   "source": [
    "root = Tk()"
   ]
  },
  {
   "cell_type": "code",
   "execution_count": 93,
   "id": "d319c56e",
   "metadata": {},
   "outputs": [
    {
     "data": {
      "text/plain": [
       "''"
      ]
     },
     "execution_count": 93,
     "metadata": {},
     "output_type": "execute_result"
    }
   ],
   "source": [
    "root.geometry('100x100')"
   ]
  },
  {
   "cell_type": "code",
   "execution_count": 80,
   "id": "2999ebe2",
   "metadata": {},
   "outputs": [],
   "source": [
    "style = Style()"
   ]
  },
  {
   "cell_type": "code",
   "execution_count": 81,
   "id": "86beb3a2",
   "metadata": {},
   "outputs": [],
   "source": [
    "style.configure('W.TButton' , font = ('calibri' , 10 , 'bold' , 'underline'),foreground = 'red')"
   ]
  },
  {
   "cell_type": "code",
   "execution_count": 82,
   "id": "df6d7390",
   "metadata": {},
   "outputs": [],
   "source": [
    "btn1 = Button(root , text = 'Quit' , style = 'W.TButton' , command = root.destroy)"
   ]
  },
  {
   "cell_type": "code",
   "execution_count": 83,
   "id": "fab4d7da",
   "metadata": {},
   "outputs": [],
   "source": [
    "btn1.grid(row = 0 , column = 4 , padx = 100)\n"
   ]
  },
  {
   "cell_type": "code",
   "execution_count": 84,
   "id": "6a7c7086",
   "metadata": {},
   "outputs": [],
   "source": [
    "btn2 = Button(root , text = 'Click me' , command = None)"
   ]
  },
  {
   "cell_type": "code",
   "execution_count": 85,
   "id": "7e364efb",
   "metadata": {},
   "outputs": [],
   "source": [
    "btn2.grid(row = 1 , column = 4 , pady = 10 , padx = 100)\n",
    "\n"
   ]
  },
  {
   "cell_type": "code",
   "execution_count": 86,
   "id": "ffcbd187",
   "metadata": {},
   "outputs": [],
   "source": [
    "root.mainloop()"
   ]
  },
  {
   "cell_type": "markdown",
   "id": "aa147481",
   "metadata": {},
   "source": [
    "# Apply style on all the available buttons "
   ]
  },
  {
   "cell_type": "code",
   "execution_count": 103,
   "id": "b0443162",
   "metadata": {},
   "outputs": [],
   "source": [
    "from tkinter import *"
   ]
  },
  {
   "cell_type": "code",
   "execution_count": 104,
   "id": "86e21102",
   "metadata": {},
   "outputs": [],
   "source": [
    "from tkinter.ttk import *"
   ]
  },
  {
   "cell_type": "code",
   "execution_count": 105,
   "id": "26c0604e",
   "metadata": {},
   "outputs": [],
   "source": [
    "root = Tk()"
   ]
  },
  {
   "cell_type": "code",
   "execution_count": 106,
   "id": "1722b8d9",
   "metadata": {},
   "outputs": [
    {
     "data": {
      "text/plain": [
       "''"
      ]
     },
     "execution_count": 106,
     "metadata": {},
     "output_type": "execute_result"
    }
   ],
   "source": [
    "root.geometry('100x100')"
   ]
  },
  {
   "cell_type": "code",
   "execution_count": 107,
   "id": "f9ef9db2",
   "metadata": {},
   "outputs": [],
   "source": [
    "style = Style()"
   ]
  },
  {
   "cell_type": "code",
   "execution_count": 108,
   "id": "d9c924fa",
   "metadata": {},
   "outputs": [],
   "source": [
    "style.configure('TButton' , font = ('calibri' , 10 , 'bold' , 'underline'),foreground = 'red')"
   ]
  },
  {
   "cell_type": "code",
   "execution_count": 109,
   "id": "49c873e7",
   "metadata": {},
   "outputs": [],
   "source": [
    "btn1 = Button(root , text = 'Quit' , style = 'TButton' , command = root.destroy)"
   ]
  },
  {
   "cell_type": "code",
   "execution_count": 110,
   "id": "b5d04a39",
   "metadata": {},
   "outputs": [],
   "source": [
    "btn1.grid(row = 0 , column = 4 , padx = 100)\n"
   ]
  },
  {
   "cell_type": "code",
   "execution_count": 111,
   "id": "0e369b97",
   "metadata": {},
   "outputs": [],
   "source": [
    "btn2 = Button(root , text = 'Click me' , command = None)"
   ]
  },
  {
   "cell_type": "code",
   "execution_count": 112,
   "id": "36c1ed18",
   "metadata": {},
   "outputs": [],
   "source": [
    "btn2.grid(row = 1 , column = 4 , pady = 10 , padx = 100)\n"
   ]
  },
  {
   "cell_type": "code",
   "execution_count": 113,
   "id": "13fe038b",
   "metadata": {},
   "outputs": [],
   "source": [
    "root.mainloop()"
   ]
  },
  {
   "cell_type": "markdown",
   "id": "74557827",
   "metadata": {},
   "source": [
    "# Change color on mouse hover "
   ]
  },
  {
   "cell_type": "code",
   "execution_count": 116,
   "id": "68337f2b",
   "metadata": {},
   "outputs": [],
   "source": [
    "\n",
    "# Import Required Module\n",
    "from tkinter import *\n",
    "from tkinter.ttk import *\n",
    " \n",
    "# Create Root Object\n",
    "root = Tk()\n",
    "# Set Geometry(widthxheight)\n",
    "root.geometry('500x500')\n",
    " \n",
    "# Create style Object\n",
    "style = Style()\n",
    " \n",
    "style.configure('TButton', font =\n",
    "               ('calibri', 20, 'bold'),\n",
    "                    borderwidth = '4')\n",
    " \n",
    "# Changes will be reflected\n",
    "# by the movement of mouse.\n",
    "style.map('TButton', foreground = [('active', 'green')],\n",
    "                     background = [('active', 'black')])\n",
    " \n",
    "# button 1\n",
    "btn1 = Button(root, text = 'Quit !', style = 'TButton', command = root.destroy)\n",
    "btn1.grid(row = 0, column = 3, padx = 100)\n",
    " \n",
    "# button 2\n",
    "btn2 = Button(root, text = 'Click me !', style = 'TButton', command = None)\n",
    "btn2.grid(row = 1, column = 3, pady = 10, padx = 100)\n",
    " \n",
    "# Execute Tkinter\n",
    "root.mainloop()\n"
   ]
  },
  {
   "cell_type": "markdown",
   "id": "c07e9763",
   "metadata": {},
   "source": [
    "# Add image on a Tkinter button"
   ]
  },
  {
   "cell_type": "markdown",
   "id": "0740bc8c",
   "metadata": {},
   "source": [
    "Important: If both image and text are given on Button, the text will be dominated and only image will appear on the Button. But if you want to show both image and text then you have to pass compound in button options.\n",
    "\n"
   ]
  },
  {
   "cell_type": "code",
   "execution_count": 171,
   "id": "6552007e",
   "metadata": {},
   "outputs": [],
   "source": [
    "from tkinter import *"
   ]
  },
  {
   "cell_type": "code",
   "execution_count": 172,
   "id": "e8ffa9b5",
   "metadata": {},
   "outputs": [],
   "source": [
    "from tkinter.ttk import *"
   ]
  },
  {
   "cell_type": "code",
   "execution_count": 173,
   "id": "35ddf3c9",
   "metadata": {},
   "outputs": [],
   "source": [
    "root = Tk()"
   ]
  },
  {
   "cell_type": "code",
   "execution_count": 174,
   "id": "98478f3f",
   "metadata": {},
   "outputs": [],
   "source": [
    "Label(root , text = 'Button' , font = ('verdana' , 15)).pack(side = TOP , pady = 10)"
   ]
  },
  {
   "cell_type": "code",
   "execution_count": 178,
   "id": "9491d67b",
   "metadata": {},
   "outputs": [],
   "source": [
    "#photo = PhotoImage(file = \"\\home\\Desktop\\kainat images\\shirt.png\")"
   ]
  },
  {
   "cell_type": "code",
   "execution_count": 179,
   "id": "98ba4eb1",
   "metadata": {},
   "outputs": [],
   "source": [
    "#Button(root , text = 'Click Me' , image = photo).pack"
   ]
  },
  {
   "cell_type": "code",
   "execution_count": 146,
   "id": "22c4aeeb",
   "metadata": {},
   "outputs": [],
   "source": [
    "mainloop()"
   ]
  },
  {
   "cell_type": "markdown",
   "id": "cc2f78de",
   "metadata": {},
   "source": [
    "# To show both image and text on Button."
   ]
  },
  {
   "cell_type": "code",
   "execution_count": 180,
   "id": "bec4bbed",
   "metadata": {},
   "outputs": [],
   "source": [
    "from tkinter import * \n",
    "from tkinter.ttk import *"
   ]
  },
  {
   "cell_type": "code",
   "execution_count": 181,
   "id": "a2321b49",
   "metadata": {},
   "outputs": [],
   "source": [
    "root = Tk()"
   ]
  },
  {
   "cell_type": "code",
   "execution_count": 182,
   "id": "bb39b1e4",
   "metadata": {},
   "outputs": [],
   "source": [
    "Label(root, text = 'Button', font =( \n",
    "  'Verdana', 15)).pack(side = TOP, pady = 10) "
   ]
  },
  {
   "cell_type": "code",
   "execution_count": 183,
   "id": "d7ce5028",
   "metadata": {},
   "outputs": [],
   "source": [
    "#photo = PhotoImage(file = r\"C:\\Gfg\\circle.png\") "
   ]
  },
  {
   "cell_type": "code",
   "execution_count": 184,
   "id": "2cc8ba28",
   "metadata": {},
   "outputs": [],
   "source": [
    "#photoimage = photo.subsample(3, 3) "
   ]
  },
  {
   "cell_type": "code",
   "execution_count": 187,
   "id": "2f0ee198",
   "metadata": {},
   "outputs": [],
   "source": [
    "#Button(root, text = 'Click Me !', image = photoimage, \n",
    "                    #compound = LEFT).pack(side = TOP) "
   ]
  },
  {
   "cell_type": "code",
   "execution_count": 188,
   "id": "8f38f601",
   "metadata": {},
   "outputs": [],
   "source": [
    "mainloop() "
   ]
  },
  {
   "cell_type": "markdown",
   "id": "cf564e36",
   "metadata": {},
   "source": [
    "# Label Widget"
   ]
  },
  {
   "cell_type": "code",
   "execution_count": 207,
   "id": "2969ede1",
   "metadata": {},
   "outputs": [],
   "source": [
    "from tkinter import *"
   ]
  },
  {
   "cell_type": "code",
   "execution_count": 208,
   "id": "0d0496d9",
   "metadata": {},
   "outputs": [],
   "source": [
    "top = Tk()"
   ]
  },
  {
   "cell_type": "code",
   "execution_count": 209,
   "id": "6e019ed2",
   "metadata": {},
   "outputs": [
    {
     "data": {
      "text/plain": [
       "''"
      ]
     },
     "execution_count": 209,
     "metadata": {},
     "output_type": "execute_result"
    }
   ],
   "source": [
    "top.geometry(\"450x300\")"
   ]
  },
  {
   "cell_type": "code",
   "execution_count": 210,
   "id": "48f28938",
   "metadata": {},
   "outputs": [],
   "source": [
    "user_name = Label(top , text = 'Username').place(x = 40 , y = 60)\n"
   ]
  },
  {
   "cell_type": "code",
   "execution_count": 211,
   "id": "35c4a485",
   "metadata": {},
   "outputs": [],
   "source": [
    "user_password = Label(top , text = 'Password').place(x = 40 , y = 100)\n"
   ]
  },
  {
   "cell_type": "code",
   "execution_count": 212,
   "id": "6941ba5f",
   "metadata": {},
   "outputs": [],
   "source": [
    "submit_button = Button(top, text = \"Submit\" , command = top.destroy).place(x = 40 , y = 130)"
   ]
  },
  {
   "cell_type": "code",
   "execution_count": 213,
   "id": "2d1744a9",
   "metadata": {},
   "outputs": [],
   "source": [
    "user_name_input_area = Entry(top , width = 30).place(x = 110 , y = 60)"
   ]
  },
  {
   "cell_type": "code",
   "execution_count": 215,
   "id": "39f0556f",
   "metadata": {},
   "outputs": [],
   "source": [
    "user_password_input_area = Entry(top , width = 30).place(x = 110 , y = 100)"
   ]
  },
  {
   "cell_type": "code",
   "execution_count": 216,
   "id": "d45c4399",
   "metadata": {},
   "outputs": [],
   "source": [
    "top.mainloop()"
   ]
  },
  {
   "cell_type": "markdown",
   "id": "29fd5801",
   "metadata": {},
   "source": [
    "# Create LabelFrame and add widgets to it"
   ]
  },
  {
   "cell_type": "code",
   "execution_count": 223,
   "id": "b521056b",
   "metadata": {},
   "outputs": [],
   "source": [
    "from tkinter import *\n",
    "\n",
    "from tkinter.ttk import *\n",
    "\n",
    "root = Tk()\n",
    "root.geometry('250x150')\n",
    "\n",
    "label_frame = LabelFrame(root , text = \"This is label Frame\")\n",
    "label_frame.pack(expand = 'yes' , fill = \"both\")\n",
    "\n",
    "label1 = Label(label_frame, text='1. This is a Label.')\n",
    "label1.place(x=0, y=5)\n",
    " \n",
    "label2 = Label(label_frame, text='2. This is another Label.')\n",
    "label2.place(x=0, y=35)\n",
    " \n",
    "label3 = Label(label_frame,\n",
    "               text='3. We can add multiple\\n    widgets in it.')\n",
    " \n",
    "label3.place(x=0, y=65)\n",
    "\n",
    "\n",
    "# Buttons\n",
    "btn1 = Button(label_frame, text='Button 1')\n",
    "btn1.place(x=40, y=120)\n",
    "btn2 = Button(label_frame, text='Button 2')\n",
    "btn2.place(x=130, y=120)\n",
    " \n",
    "# Checkbuttons\n",
    "chkbtn1 = Checkbutton(label_frame, text='Checkbutton 1')\n",
    "chkbtn1.place(x=30, y=50)\n",
    "chkbtn2 = Checkbutton(label_frame, text='Checkbutton 2')\n",
    "chkbtn2.place(x=30, y=80)\n",
    "\n",
    "\n",
    "root.mainloop()"
   ]
  },
  {
   "cell_type": "markdown",
   "id": "e3d45f1c",
   "metadata": {},
   "source": [
    "# RadioButtons"
   ]
  },
  {
   "cell_type": "code",
   "execution_count": 227,
   "id": "180e28ad",
   "metadata": {},
   "outputs": [],
   "source": [
    "from tkinter import *\n",
    "from tkinter.ttk import *\n",
    "\n",
    "root = Tk()\n",
    "root.geometry(\"175x175\")\n",
    "\n",
    "#v = StringVar(root, \"1\"): This line creates a Tkinter StringVar variable v and initializes it with the value \"1\". This variable will be used to keep track of the selected radio button.\n",
    "\n",
    "v = StringVar(root , \"1\")\n",
    "\n",
    "values = {\n",
    "    \"RadioButton 1\" :\"1\",\n",
    "    \"RadioButton 2\" :\"2\",\n",
    "    \"RadioButton 3\" :\"3\",\n",
    "    \"RadioButton 4\" :\"4\",\n",
    "    \"RadioButton 5\" :\"5\",\n",
    "}\n",
    "\n",
    "for (text , value) in values.items():\n",
    "    Radiobutton(root , text = text , variable = v , value = value).pack(side = TOP , ipady = 5)\n",
    "    \n",
    "    \n",
    "root.mainloop()"
   ]
  },
  {
   "cell_type": "markdown",
   "id": "18cedcb9",
   "metadata": {},
   "source": [
    "# CheckButtons"
   ]
  },
  {
   "cell_type": "code",
   "execution_count": 228,
   "id": "7e123e78",
   "metadata": {},
   "outputs": [],
   "source": [
    "\n",
    "from tkinter import * \n",
    "  \n",
    "root = Tk() \n",
    "root.geometry(\"300x200\") \n",
    "  \n",
    "w = Label(root, text ='CheckButton', font = \"50\")  \n",
    "w.pack() \n",
    "  \n",
    "Checkbutton1 = IntVar()   \n",
    "Checkbutton2 = IntVar()   \n",
    "Checkbutton3 = IntVar() \n",
    "  \n",
    "Button1 = Checkbutton(root, text = \"Tutorial\",  \n",
    "                      variable = Checkbutton1, \n",
    "                      onvalue = 1, \n",
    "                      offvalue = 0, \n",
    "                      height = 2, \n",
    "                      width = 10) \n",
    "  \n",
    "Button2 = Checkbutton(root, text = \"Student\", \n",
    "                      variable = Checkbutton2, \n",
    "                      onvalue = 1, \n",
    "                      offvalue = 0, \n",
    "                      height = 2, \n",
    "                      width = 10) \n",
    "  \n",
    "Button3 = Checkbutton(root, text = \"Courses\", \n",
    "                      variable = Checkbutton3, \n",
    "                      onvalue = 1, \n",
    "                      offvalue = 0, \n",
    "                      height = 2, \n",
    "                      width = 10)   \n",
    "    \n",
    "Button1.pack()   \n",
    "Button2.pack()   \n",
    "Button3.pack() \n",
    "  \n",
    "mainloop()  \n"
   ]
  },
  {
   "cell_type": "markdown",
   "id": "20b247cf",
   "metadata": {},
   "source": [
    "# ComboBox"
   ]
  },
  {
   "cell_type": "code",
   "execution_count": 237,
   "id": "34c9ad09",
   "metadata": {},
   "outputs": [],
   "source": [
    "from tkinter import *\n",
    "from tkinter.ttk import *\n",
    "\n",
    "window = Tk()\n",
    "window.geometry('350x250')\n",
    "\n",
    "lbl = Label(window, text=\"Select the Month:\", font=(\"Times New Roman\", 10))\n",
    "lbl.grid(column=0, row=15, padx=10, pady=25)\n",
    "\n",
    "n = StringVar()\n",
    "\n",
    "monthchoosen = Combobox(window, width=27, textvariable=n)\n",
    "\n",
    "monthchoosen['values'] = ('January',  \n",
    "                          'February', \n",
    "                          'March', \n",
    "                          'April', \n",
    "                          'May', \n",
    "                          'June',  \n",
    "                          'July',  \n",
    "                          'August',  \n",
    "                          'September',  \n",
    "                          'October',  \n",
    "                          'November',  \n",
    "                          'December') \n",
    "monthchoosen.grid(column=1, row=15)  \n",
    "\n",
    "monthchoosen.current(1)\n",
    "\n",
    "window.mainloop() \n"
   ]
  },
  {
   "cell_type": "markdown",
   "id": "5fbef922",
   "metadata": {},
   "source": [
    "# maxsize()"
   ]
  },
  {
   "cell_type": "markdown",
   "id": "bcade947",
   "metadata": {},
   "source": [
    "This method is used to set the maximum size of the root window (maximum size a window can be expanded). User will still be able to shrink the size of the window to the minimum possible. Syntax :\n",
    "\n",
    " master.maxsize(height, width) "
   ]
  },
  {
   "cell_type": "code",
   "execution_count": 238,
   "id": "8c86214e",
   "metadata": {},
   "outputs": [],
   "source": [
    "from tkinter import *\n",
    "from tkinter.ttk import *\n",
    "\n",
    "root = Tk()\n",
    "\n",
    "root.maxsize(200, 200)\n",
    "\n",
    "Button(root, text = 'Click Me !').pack(side = TOP)\n",
    "\n",
    "mainloop()"
   ]
  },
  {
   "cell_type": "markdown",
   "id": "89b31d53",
   "metadata": {},
   "source": [
    "# minsize()"
   ]
  },
  {
   "cell_type": "markdown",
   "id": "46c93463",
   "metadata": {},
   "source": [
    "In Tkinter, minsize() method is used to set the minimum size of the Tkinter window. Using this method user can set window’s initialized size to its minimum size, and still be able to maximize and scale the window larger. \n",
    "\n",
    "Syntax:\n",
    "\n",
    "master.minsize(width, height)"
   ]
  },
  {
   "cell_type": "code",
   "execution_count": 240,
   "id": "281e0ee3",
   "metadata": {},
   "outputs": [],
   "source": [
    "from tkinter import *\n",
    "from tkinter.ttk import *\n",
    "\n",
    "root = Tk()\n",
    "\n",
    "root.minsize(500,500)\n",
    "\n",
    "Button(root, text = 'Click Me !').pack(side = TOP)\n",
    "\n",
    "mainloop()"
   ]
  },
  {
   "cell_type": "markdown",
   "id": "52412bec",
   "metadata": {},
   "source": [
    "# resizable()"
   ]
  },
  {
   "cell_type": "markdown",
   "id": "0c1db76e",
   "metadata": {},
   "source": [
    "resizable() method is used to allow Tkinter root window to change it’s size according to the users need as well we can prohibit resizing of the Tkinter window.\n",
    "So, basically, if user wants to create a fixed size window, this method can be used.\n",
    "\n",
    "How to use:\n",
    "\n",
    "-> import tkinter\n",
    "-> root = Tk()\n",
    "-> root.resizable(height = None, width = None)\n"
   ]
  },
  {
   "cell_type": "code",
   "execution_count": 241,
   "id": "ff0f34ab",
   "metadata": {},
   "outputs": [],
   "source": [
    "#root.resizable(True, True)     #Can Resize\n",
    "\n",
    "#root.resizable(0, 0)       #Cannot Resize\n"
   ]
  },
  {
   "attachments": {
    "resizable2-300x213.png": {
     "image/png": "[encoded data removed]"
    }
   },
   "cell_type": "markdown",
   "id": "f86f4264",
   "metadata": {},
   "source": [
    "![resizable2-300x213.png](attachment:resizable2-300x213.png)"
   ]
  },
  {
   "attachments": {
    "non_resizable.png": {
     "image/png": "[encoded data removed]"
    }
   },
   "cell_type": "markdown",
   "id": "af18cbaf",
   "metadata": {},
   "source": [
    "![non_resizable.png](attachment:non_resizable.png)"
   ]
  },
  {
   "cell_type": "markdown",
   "id": "f286cee2",
   "metadata": {},
   "source": [
    "# Entry Widget"
   ]
  },
  {
   "cell_type": "code",
   "execution_count": 244,
   "id": "06a997f8",
   "metadata": {},
   "outputs": [
    {
     "name": "stdout",
     "output_type": "stream",
     "text": [
      "The name is: alisha\n",
      "The password is: 1234567\n"
     ]
    }
   ],
   "source": [
    "from tkinter import *\n",
    "\n",
    "root = Tk()\n",
    "\n",
    "root.geometry(\"600x400\")\n",
    "\n",
    "name_var = StringVar()\n",
    "passw_var = StringVar()\n",
    "\n",
    "def submit():\n",
    "    \n",
    "    name = name_var.get()\n",
    "    password = passw_var.get()\n",
    "    \n",
    "    print(\"The name is: \" + name)\n",
    "    print(\"The password is: \" + password)\n",
    "    \n",
    "    name_var.set(\"\")\n",
    "    passw_var.set(\"\")\n",
    "    \n",
    "# creating a label for \n",
    "# name using widget Label\n",
    "name_label = tk.Label(root, text = 'Username', font=('calibre',10, 'bold'))\n",
    "  \n",
    "# creating a entry for input\n",
    "# name using widget Entry\n",
    "name_entry = tk.Entry(root,textvariable = name_var, font=('calibre',10,'normal'))\n",
    "  \n",
    "# creating a label for password\n",
    "passw_label = tk.Label(root, text = 'Password', font = ('calibre',10,'bold'))\n",
    "  \n",
    "# creating a entry for password\n",
    "passw_entry=tk.Entry(root, textvariable = passw_var, font = ('calibre',10,'normal'), show = '*')\n",
    "  \n",
    "# creating a button using the widget \n",
    "# Button that will call the submit function \n",
    "sub_btn=tk.Button(root,text = 'Submit', command = submit)\n",
    "  \n",
    "# placing the label and entry in\n",
    "# the required position using grid\n",
    "# method\n",
    "name_label.grid(row=0,column=0)\n",
    "name_entry.grid(row=0,column=1)\n",
    "passw_label.grid(row=1,column=0)\n",
    "passw_entry.grid(row=1,column=1)\n",
    "sub_btn.grid(row=2,column=1)\n",
    "  \n",
    "# performing an infinite loop \n",
    "# for the window to display\n",
    "root.mainloop()\n",
    "    \n"
   ]
  },
  {
   "cell_type": "markdown",
   "id": "5baf7809",
   "metadata": {},
   "source": [
    "# Read only Entry Widget"
   ]
  },
  {
   "cell_type": "code",
   "execution_count": 245,
   "id": "101dc969",
   "metadata": {},
   "outputs": [],
   "source": [
    "import tkinter \n",
    "from tkinter import *\n",
    "  \n",
    "  \n",
    "root = Tk() \n",
    "  \n",
    "L1 = Label(root, text=\"User Name\") \n",
    "L1.grid(row=0,column=0) \n",
    "L2 = Label(root, text=\"Password\") \n",
    "L2.grid(row=1,column=0) \n",
    "  \n",
    "mystr = StringVar() \n",
    "mystr.set('username@xyz.com') \n",
    "  \n",
    "entry = Entry(textvariable=mystr,  \n",
    "              state=DISABLED).grid(row=0, \n",
    "                                   column=1, \n",
    "                                   padx=10, \n",
    "                                   pady=10) \n",
    "  \n",
    "passwd = Entry().grid(row=1,column=1, \n",
    "                      padx=10,pady=10) \n",
    "mainloop() \n"
   ]
  },
  {
   "cell_type": "markdown",
   "id": "9e732363",
   "metadata": {},
   "source": [
    "# Text Widget"
   ]
  },
  {
   "cell_type": "code",
   "execution_count": 250,
   "id": "8d0b738b",
   "metadata": {},
   "outputs": [
    {
     "name": "stdout",
     "output_type": "stream",
     "text": [
      "120\n",
      "34\n"
     ]
    }
   ],
   "source": [
    "from tkinter import *\n",
    "\n",
    "root = Tk()\n",
    "\n",
    "root.geometry(\"300x300\")\n",
    "\n",
    "root.title(\"Q and A\")\n",
    "\n",
    "def take_input():\n",
    "    \n",
    "    INPUT = inputtxt.get(\"1.0\", \"end-1c\")\n",
    "    print(INPUT)\n",
    "    \n",
    "    if(INPUT == \"120\"):\n",
    "        Output.insert(END , 'Correct')\n",
    "    \n",
    "    else:\n",
    "        Output.insert(END , \"Wrong answer\")\n",
    "        \n",
    "l = Label(text = \"what is 24 * 5? \")\n",
    "\n",
    "inputtxt = Text(root , height = 10 , width = 25 , bg = \"yellow\")\n",
    "\n",
    "Output = Text(root, height = 5, \n",
    "              width = 25, \n",
    "              bg = \"light cyan\")\n",
    "\n",
    "Display = Button(root, height = 2,\n",
    "                 width = 20, \n",
    "                 text =\"Show\",\n",
    "                 command = lambda:take_input())\n",
    "l.pack()\n",
    "inputtxt.pack()\n",
    "Display.pack()\n",
    "Output.pack()\n",
    "    \n",
    "    \n",
    "mainloop()\n"
   ]
  },
  {
   "cell_type": "markdown",
   "id": "c96cf236",
   "metadata": {},
   "source": [
    "# Message:"
   ]
  },
  {
   "cell_type": "code",
   "execution_count": 251,
   "id": "3d99c474",
   "metadata": {},
   "outputs": [],
   "source": [
    "\n",
    "from tkinter import *\n",
    "  \n",
    "root = Tk() \n",
    "root.geometry(\"300x200\") \n",
    "  \n",
    "w = Label(root, text ='Label', font = \"60\")  \n",
    "w.pack() \n",
    "    \n",
    "msg = Message( root, text = \"A computer science\")   \n",
    "    \n",
    "msg.pack()   \n",
    "  \n",
    "root.mainloop()  \n"
   ]
  },
  {
   "cell_type": "markdown",
   "id": "40ca8b42",
   "metadata": {},
   "source": [
    "We Have more widgets in Tkinter. You can visit official website or also refer geeks for geeks"
   ]
  },
  {
   "cell_type": "code",
   "execution_count": null,
   "id": "634041c0",
   "metadata": {},
   "outputs": [],
   "source": []
  }
 ],
 "metadata": {
  "kernelspec": {
   "display_name": "Python 3 (ipykernel)",
   "language": "python",
   "name": "python3"
  },
  "language_info": {
   "codemirror_mode": {
    "name": "ipython",
    "version": 3
   },
   "file_extension": ".py",
   "mimetype": "text/x-python",
   "name": "python",
   "nbconvert_exporter": "python",
   "pygments_lexer": "ipython3",
   "version": "3.11.3"
  }
 },
 "nbformat": 4,
 "nbformat_minor": 5
}
