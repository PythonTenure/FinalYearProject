{
 "cells": [
  {
   "cell_type": "markdown",
   "id": "ab0270f4-aa31-43ff-9a99-0a2b0c8e8319",
   "metadata": {},
   "source": [
    "                                         Basemap\r\n",
    "Basemap is a great tool for creating maps using python in a simple way. It’s a matplotlib extensio, it has got all its features to create data visualizations, and adds the geographical projections and \r\n",
    "some datasets to be able to plot coast line and, countries "
   ]
  },
  {
   "cell_type": "markdown",
   "id": "9d500ab8-e8b2-4456-8367-bbe36b5ad6e6",
   "metadata": {},
   "source": [
    "Drawing the first map"
   ]
  },
  {
   "cell_type": "code",
   "execution_count": null,
   "id": "c1ec34da-5992-4a80-a577-c93768c05957",
   "metadata": {},
   "outputs": [],
   "source": [
    "from mpl_toolkits.basemap import Basemap\n",
    "import matplotlib.pyplot as plt\n",
    "map = Basemap()\n",
    "map.drawcoastlines()\n",
    "plt.show()\n",
    "plt.savefig('test.png')"
   ]
  },
  {
   "cell_type": "markdown",
   "id": "3f0359c8-c7ce-49d3-9d3d-4caff7e0c4b6",
   "metadata": {},
   "source": [
    "                                      Managing projections\n",
    "\r\n",
    "All maps must have a projection. The projection and its features are all assigned when \r\n",
    "the object Basemap is created"
   ]
  },
  {
   "cell_type": "code",
   "execution_count": null,
   "id": "43d27399-4847-4dd2-9707-01e4ef7bca8d",
   "metadata": {},
   "outputs": [],
   "source": [
    "from mpl_toolkits.basemap import Basemap\n",
    "import matplotlib.pyplot as plt\n",
    "map = Basemap(projection='aeqd', lon_0 = 10, lat_0 = 50)\n",
    "map.drawmapboundary(fill_color='aqua')\n",
    "map.fillcontinents(color='coral',lake_color='aqua')\n",
    "map.drawcoastlines()\n",
    "plt.show()"
   ]
  },
  {
   "cell_type": "markdown",
   "id": "fb5027d6-367b-430c-8115-365f3c4983fe",
   "metadata": {},
   "source": [
    "                                     Drawing a point in a map                   \r\n",
    "Drawing a point in a map is usually done using the plot method:"
   ]
  },
  {
   "cell_type": "code",
   "execution_count": null,
   "id": "ec558ec7-f415-40cf-9ba3-911e1abb7ecd",
   "metadata": {},
   "outputs": [],
   "source": [
    "from mpl_toolkits.basemap import Basemap\n",
    "import matplotlib.pyplot as plt\n",
    "map = Basemap(projection='ortho', \n",
    " lat_0=0, lon_0=0)\n",
    "map.drawmapboundary(fill_color='aqua')\n",
    "map.fillcontinents(color='coral',lake_color='aqua')\n",
    "map.drawcoastlines()\n",
    "x, y = map(0, 0)\n",
    "map.plot(x, y, marker='D',color='m')\n",
    "plt.show()"
   ]
  },
  {
   "cell_type": "markdown",
   "id": "eacf525e-82fe-40a2-9aee-b1f8d33c981e",
   "metadata": {},
   "source": [
    "                             Calculating the position of a point on the map"
   ]
  },
  {
   "cell_type": "code",
   "execution_count": null,
   "id": "d742d30a-94e0-429f-90bb-2ccf1a9df581",
   "metadata": {},
   "outputs": [],
   "source": [
    "from mpl_toolkits.basemap import Basemap\n",
    "import matplotlib.pyplot as plt\n",
    "map = Basemap(projection='aeqd', lon_0 = 10, lat_0 = 50)\n",
    "print map(10, 50)\n",
    "print map(20015077.3712, 20015077.3712, inverse=True)\n"
   ]
  },
  {
   "cell_type": "markdown",
   "id": "199a189a-6a1d-4640-9767-701bc8985583",
   "metadata": {},
   "source": [
    "The output will be:\r\n",
    "(20015077.3712, 20015077.3712) (10.000000000000002, 50.000000000000014)\r\n",
    "When inverse is False, the input is a point in longitude and latitude, and the output is \r\n",
    "the point in the map coordinates. When inverse is True, the behavior is the opposite.\r"
   ]
  },
  {
   "cell_type": "markdown",
   "id": "875e32f7-a1d1-4143-8c60-eb5d377ddd85",
   "metadata": {},
   "source": [
    "                                    Working with shapefiles\n",
    "The way used by Basemap to handle vectorial files is quite different from other \n",
    "libraries"
   ]
  },
  {
   "cell_type": "code",
   "execution_count": null,
   "id": "7fbff265-7dd4-4318-8d1f-cfe7bc485d50",
   "metadata": {},
   "outputs": [],
   "source": [
    "from mpl_toolkits.basemap import Basemap\n",
    "import matplotlib.pyplot as plt\n",
    "map = Basemap(llcrnrlon=-0.5,llcrnrlat=39.8,urcrnrlon=4.,urcrnrlat=43.,\n",
    " resolution='i', projection='tmerc', lat_0 = 39.5, lon_0 = 1)\n",
    "map.drawmapboundary(fill_color='aqua')\n",
    "map.fillcontinents(color='#ddaa66',lake_color='aqua')\n",
    "map.drawcoastlines()\n",
    "map.readshapefile('../sample_files/comarques', 'comarques')\n",
    "plt.show()"
   ]
  },
  {
   "cell_type": "markdown",
   "id": "e9b082e7-57a2-4f0d-a1a6-b7796d3596a7",
   "metadata": {},
   "source": [
    "The first parameter shapefile name must go without the shp extension. The library assumes that all \r\n",
    "shp, sbf and shx files will exist with this given name\r\n",
    "The second parameter is a name to access later to the shapefile information from the Basemap \r\n",
    "insteanc"
   ]
  },
  {
   "cell_type": "markdown",
   "id": "d681c1fd-fac9-4c76-8687-268239271eb6",
   "metadata": {},
   "source": [
    "                                       Plotting data\r",
    " \n",
    "imsho   w\r\n",
    "Plots an image on the map. The image can be a regular rgb image, or a field colored \r\n",
    "with a cmap.\r\n",
    "imshow(*args, **kwargs)\r\n",
    "As in other cases, the best docs are at the matplotlib documentation.\r\n",
    "• The first argument is the image array. If it has three bands, RGB will be \r\n",
    "assumed, and the image will be plotted. If it has one band, a pseudocolor will \r\n",
    "be created according to the cmap argument (jet by default). Arrays with two or \r\n",
    "more than three bands will make the method tp raise an error\r\n",
    "• extent sets the position of four corners of the image, in map coordinates. It has \r\n",
    "to be a sequence with the elements (x0, x1, y0, y1)\r\n",
    "• origin changes the initial line position of the image. By default, the first line \r\n",
    "position is defined by image.origin, and this can be changed using the values \r\n",
    "‘upper’ or ‘lower’\r\n",
    "• cmap is the desired colormap if the image has one band.\r\n",
    "• alpha sets the transparency with values from 0 to "
   ]
  },
  {
   "cell_type": "code",
   "execution_count": null,
   "id": "43b932ee-10be-4402-bf10-a303fa912dba",
   "metadata": {},
   "outputs": [],
   "source": [
    "from mpl_toolkits.basemap import Basemap\n",
    "import matplotlib.pyplot as plt\n",
    "fig = plt.figure()\n",
    "map = Basemap(projection='ortho', \n",
    " lat_0=0, lon_0=0)\n",
    "map.drawlsmask(land_color = \"#ddaa66\", \n",
    " ocean_color=\"#7777ff\",\n",
    " resolution = 'l')\n",
    "x0, y0 = map(1., 31.)\n",
    "x1, y1 = map(15., 39.)\n",
    "plt.imshow(plt.imread('../sample_files/by.png'), extent = (x0, x1, y0, y1))\n",
    " \n",
    "axicon = fig.add_axes([0.1, 0., 0.15, 0.15])\n",
    "axicon.imshow(plt.imread('../sample_files/by.png'), origin = 'upper')\n",
    "axicon.set_xticks([])\n",
    "axicon.set_yticks([])\n",
    "plt.show()\n"
   ]
  },
  {
   "cell_type": "markdown",
   "id": "178a5e5f-cb72-4041-b768-dce7826c8b2c",
   "metadata": {},
   "source": [
    "                                          text\r\n",
    "Plots a text on the map\r\n",
    "text(x, y, s, fontdict=None, withdash=False, **kwarg\n",
    "The text can have many many options such as:\r\n",
    "• fontsize the font size\r\n",
    "• fontweight font weight, such as bold\r\n",
    "• ha horitzontal align, like center, left or right\r\n",
    "• va vertical align, like center, top or bottom\r\n",
    "• bbox creates a box around the text: bbox=dict(facecolor=’red’, alpha=0.5)s)"
   ]
  },
  {
   "cell_type": "code",
   "execution_count": null,
   "id": "1d560658-ac5d-4744-861d-7317e923cdb3",
   "metadata": {},
   "outputs": [],
   "source": [
    "from mpl_toolkits.basemap import Basemap\n",
    "import matplotlib.pyplot as plt\n",
    "map = Basemap(projection='ortho', \n",
    " lat_0=0, lon_0=0)\n",
    "map.drawmapboundary(fill_color='aqua')\n",
    "map.fillcontinents(color='#cc9955',lake_color='aqua')\n",
    "map.drawcoastlines()\n",
    "lon = 3.4\n",
    "lat = 3.4\n",
    "x, y = map(lon, lat)\n",
    "plt.text(x, y, 'Lagos',fontsize=12,fontweight='bold',\n",
    " ha='left',va='bottom',color='k')\n",
    "lon = 2.1\n",
    "lat = 41.\n",
    "x, y = map(lon, lat)\n",
    "plt.text(x, y, 'Barcelona',fontsize=12,fontweight='bold',\n",
    " ha='left',va='center',color='k',\n",
    "bbox=dict(facecolor='b', alpha=0.2))\n",
    "plt.show("
   ]
  },
  {
   "cell_type": "markdown",
   "id": "5b7541b6-25be-4edd-8d58-0d746481092b",
   "metadata": {},
   "source": [
    "                                            Background methods\r\n",
    "bluemarble\r\n",
    "Plots the bluemarble image on the map.\r\n",
    "bluemarble(ax=None, scale=None, **kwargs)\r\n",
    "• The scale is useful to downgrade the original image resolution to speed up the \r\n",
    "process. A value of 0.5 will divide the size of the image by 4\r\n",
    "• The image is warped to the final projection, so all projections work properly \r\n",
    "with this method"
   ]
  },
  {
   "cell_type": "code",
   "execution_count": null,
   "id": "ab6a5ab4-1117-4d70-b24b-67fad9f6c54f",
   "metadata": {},
   "outputs": [],
   "source": [
    "from mpl_toolkits.basemap import Basemap\n",
    "import matplotlib.pyplot as plt\n",
    "map = Basemap(llcrnrlon=-10.5,llcrnrlat=33,urcrnrlon=10.,urcrnrlat=46.,\n",
    " resolution='i', projection='cass', lat_0 = 39.5, lon_0 = 0.)\n",
    "map.bluemarble()\n",
    "map.drawcoastlines()\n",
    "plt.show()\n"
   ]
  },
  {
   "cell_type": "markdown",
   "id": "71415cdc-fe7d-40c2-9a24-4585cca75c97",
   "metadata": {},
   "source": [
    "                                                 warpimage\r\n",
    "Displays an image as a background.\r\n",
    "warpimage(image=’bluemarble’, scale=None, **kwargs)\r\n",
    "• By default, displays the NASA Bluemarble image\r\n",
    "• The image must be in latlon projection, so the x size must be double than the y \r\n",
    "size\r\n",
    "• The image must cover the whole world, with the longitude starting at -180"
   ]
  },
  {
   "cell_type": "code",
   "execution_count": null,
   "id": "d330a413-8b25-4691-9080-a358b1ee0e02",
   "metadata": {},
   "outputs": [],
   "source": [
    "from mpl_toolkits.basemap import Basemap\n",
    "import matplotlib.pyplot as plt\n",
    "import Image\n",
    "map = Basemap(projection='ortho', \n",
    " lat_0=0, lon_0=0)\n",
    "tmpdir = '/tmp'\n",
    "size = [600, 300]\n",
    "im = Image.open(\"../sample_files/by.png\")\n",
    "im2 = im.resize(size, Image.ANTIALIAS)\n",
    "im2.save(tmpdir+'/resized.png', \"PNG\")\n",
    "map.warpimage(tmpdir+'/resized.png')\n",
    "map.drawcoastlines()\n",
    "plt.show()"
   ]
  },
  {
   "cell_type": "markdown",
   "id": "4d91a276-00a8-47d9-a79e-2ab387d68d73",
   "metadata": {},
   "source": [
    "                                              Basemap utility functions\r\n",
    "colorbars\r\n",
    "Draws the color legend at one of the edges of the map. The use is almost the same as \r\n",
    "in matplotlib colorbar\r\n",
    "colorbar(mappable=None, location=’right’, size=‘5%’, pad=‘2%’, fig=None, ax=None, \r\n",
    "**kwargs)"
   ]
  },
  {
   "cell_type": "markdown",
   "id": "1c8b5086-bbf6-4b10-bafb-47b8a7de0280",
   "metadata": {},
   "source": [
    "                                                     makegrid\r\n",
    "makegrid method creates an arbitrary grid of equally spaced points in the map \r\n",
    "projection. Used to get the longitudes and latitudes that would form an an equally \r\n",
    "spaced grid using the map projection.\r\n",
    "makegrid(nx, ny, returnxy=False)\r\n",
    "• nx and n define the size of the output grid\r\n",
    "• If returnxy is set to True, the positions of the grid in the map projection are \r\n",
    "also returned\r\n",
    "• returns the longitudes and latitudes 2D numpy arrays, and the x and y in the \r\n",
    "map coordinates arrays if returnxy is set to True"
   ]
  },
  {
   "cell_type": "markdown",
   "id": "11c84ae6-f41d-4d3f-8332-68dacb0e8792",
   "metadata": {},
   "source": [
    "                                                     nightshade\r\n",
    "Draws the regions of the map which are dark at the specified dat\n",
    "date is a datetime.datetime object\r\n",
    "• color is the color of the drawn shadow\r\n",
    "• delta is the resolution to which the shadow zone is calculated. By default is \r\n",
    "0.25, and small values fail easily\r\n",
    "• alpha is the transparency value\r\n",
    "• zorder can change the layer vertical positione"
   ]
  },
  {
   "cell_type": "markdown",
   "id": "a9f7d0d0-ee9b-4fb4-8fea-3b0fb9265b25",
   "metadata": {},
   "source": [
    "\n",
    "                                              Multiple maps using subplots\r\n",
    "Drawing multiple maps in the same figure is possible using matplotlib’s subplots. \r\n",
    "There are several ways to use them, and depending on the complexity of the desired \r\n",
    "figure, one or other is better:\r\n",
    "• Creating the axis using subplot directly with add_subplot\r\n",
    "• Creating the subplots with pylab.subplots\r\n",
    "• Using subplot2grid\r\n",
    "• Creating Inset locators"
   ]
  },
  {
   "cell_type": "markdown",
   "id": "86fa8f21-59cc-4cee-97e4-14e6adac164f",
   "metadata": {},
   "source": [
    "                                                    Basemap in 3D"
   ]
  },
  {
   "cell_type": "markdown",
   "id": "9adda4dd-d4e6-4b76-b73c-d4fe97c754b8",
   "metadata": {},
   "source": [
    "Creating a basic map\r\n",
    "The most important thing to know when starting with 3d matplotlib plots is that the \r\n",
    "Axes3D class has to be used. To add geographical data to the map, the method \r\n",
    "add_collection3d will be used:"
   ]
  },
  {
   "cell_type": "code",
   "execution_count": null,
   "id": "e54ce42b-1181-426c-9041-fd0fdfeb6f5e",
   "metadata": {},
   "outputs": [],
   "source": [
    "import matplotlib.pyplot as plt\n",
    "from mpl_toolkits.mplot3d import Axes3D\n",
    "from mpl_toolkits.basemap import Basemap\n",
    "map = Basemap()\n",
    "fig = plt.figure()\n",
    "ax = Axes3D(fig)\n",
    "'''\n",
    "ax.azim = 270\n",
    "ax.elev = 90\n",
    "ax.dist = 5\n",
    "'''\n",
    "ax.add_collection3d(map.drawcoastlines(linewidth=0.25))\n",
    "ax.add_collection3d(map.drawcountries(linewidth=0.35))\n",
    "plt.show()"
   ]
  }
 ],
 "metadata": {
  "kernelspec": {
   "display_name": "Python 3 (ipykernel)",
   "language": "python",
   "name": "python3"
  },
  "language_info": {
   "codemirror_mode": {
    "name": "ipython",
    "version": 3
   },
   "file_extension": ".py",
   "mimetype": "text/x-python",
   "name": "python",
   "nbconvert_exporter": "python",
   "pygments_lexer": "ipython3",
   "version": "3.12.0"
  }
 },
 "nbformat": 4,
 "nbformat_minor": 5
}
