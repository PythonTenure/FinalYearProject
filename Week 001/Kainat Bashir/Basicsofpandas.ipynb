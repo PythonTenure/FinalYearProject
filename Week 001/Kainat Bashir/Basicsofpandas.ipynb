{
 "cells": [
  {
   "cell_type": "markdown",
   "id": "6c2a566f",
   "metadata": {},
   "source": [
    "# Pandas is a powerful Python library for data manipulation and analysis. Here are some fundamental concepts:"
   ]
  },
  {
   "cell_type": "markdown",
   "id": "4ebbdb9b",
   "metadata": {},
   "source": [
    "# Data Structures: Series and DataFrame"
   ]
  },
  {
   "cell_type": "markdown",
   "id": "a2864c42",
   "metadata": {},
   "source": [
    "# 1.Series"
   ]
  },
  {
   "cell_type": "code",
   "execution_count": 44,
   "id": "3c2e0ea1",
   "metadata": {},
   "outputs": [],
   "source": [
    "#Series:\n",
    "\n",
    "#A one-dimensional array-like object.\n",
    "#It can hold any data type.\n",
    "#Has an associated array of data labels called an index."
   ]
  },
  {
   "cell_type": "code",
   "execution_count": 45,
   "id": "74f37ed7",
   "metadata": {},
   "outputs": [
    {
     "name": "stdout",
     "output_type": "stream",
     "text": [
      "0    1.0\n",
      "1    3.0\n",
      "2    5.0\n",
      "3    NaN\n",
      "4    6.0\n",
      "5    8.0\n",
      "dtype: float64\n"
     ]
    }
   ],
   "source": [
    "import pandas as pd\n",
    "\n",
    "# Creating a Series\n",
    "s = pd.Series([1, 3, 5, np.nan, 6, 8])\n",
    "print(s)\n"
   ]
  },
  {
   "cell_type": "markdown",
   "id": "5979eb6f",
   "metadata": {},
   "source": [
    "# 2.DataFrame:"
   ]
  },
  {
   "cell_type": "code",
   "execution_count": null,
   "id": "24e86c70",
   "metadata": {},
   "outputs": [],
   "source": [
    "#A two-dimensional tabular data structure.\n",
    "#It consists of rows and columns.\n",
    "#Can be thought of as a collection of Series."
   ]
  },
  {
   "cell_type": "code",
   "execution_count": 46,
   "id": "e542dad3",
   "metadata": {},
   "outputs": [
    {
     "name": "stdout",
     "output_type": "stream",
     "text": [
      "      Name  Age           City\n",
      "0    Alice   25       New York\n",
      "1      Bob   30  San Francisco\n",
      "2  Charlie   22    Los Angeles\n"
     ]
    }
   ],
   "source": [
    "df = pd.DataFrame({\n",
    "    'Name': ['Alice', 'Bob', 'Charlie'],\n",
    "    'Age': [25, 30, 22],\n",
    "    'City': ['New York', 'San Francisco', 'Los Angeles']\n",
    "})\n",
    "print(df)"
   ]
  },
  {
   "cell_type": "code",
   "execution_count": 12,
   "id": "236263bc",
   "metadata": {},
   "outputs": [
    {
     "name": "stdout",
     "output_type": "stream",
     "text": [
      "Original DataFrame:\n",
      "   StudentID     Name  Age  Gender      Score\n",
      "0          1    Alice   23  Female  64.025577\n",
      "1          2      Bob   23  Female  60.877944\n",
      "2          3  Charlie   20    Male  87.975110\n",
      "3          4    David   24    Male  99.811765\n",
      "4          5     Emma   20  Female  65.231794\n",
      "5          6    Frank   21  Female  64.051845\n",
      "6          7    Grace   24  Female  97.676045\n",
      "7          8     Hank   19  Female  81.629984\n",
      "8          9      Ivy   22  Female  74.485134\n",
      "9         10     Jack   22    Male  88.384574\n"
     ]
    }
   ],
   "source": [
    "import pandas as pd\n",
    "import numpy as np\n",
    "\n",
    "# Creating a DataFrame with dummy data\n",
    "data = {\n",
    "    'StudentID': np.arange(1, 11),\n",
    "    'Name': ['Alice', 'Bob', 'Charlie', 'David', 'Emma', 'Frank', 'Grace', 'Hank', 'Ivy', 'Jack'],\n",
    "    'Age': np.random.randint(18, 25, size=10),\n",
    "    'Gender': np.random.choice(['Male', 'Female'], size=10),\n",
    "    'Score': np.random.uniform(60, 100, size=10)\n",
    "}\n",
    "\n",
    "students_df = pd.DataFrame(data)\n",
    "\n",
    "# Displaying the DataFrame\n",
    "print(\"Original DataFrame:\")\n",
    "print(students_df)\n"
   ]
  },
  {
   "cell_type": "markdown",
   "id": "b100821a",
   "metadata": {},
   "source": [
    "# basic data analysis concepts:"
   ]
  },
  {
   "cell_type": "markdown",
   "id": "9a129b27",
   "metadata": {},
   "source": [
    "# 1.Exploring the DataFrame:"
   ]
  },
  {
   "cell_type": "code",
   "execution_count": 23,
   "id": "447b6142",
   "metadata": {},
   "outputs": [
    {
     "name": "stdout",
     "output_type": "stream",
     "text": [
      "\n",
      "First few rows:\n",
      "   StudentID     Name   Age  Gender      Score\n",
      "0          1    Alice  23.0  Female  64.025577\n",
      "1          2      Bob  23.0  Female        NaN\n",
      "2          3  Charlie  20.0    Male  87.975110\n",
      "3          4    David   NaN    Male  99.811765\n",
      "4          5     Emma  20.0  Female  65.231794\n",
      "\n",
      "Data types and missing values:\n",
      "<class 'pandas.core.frame.DataFrame'>\n",
      "RangeIndex: 10 entries, 0 to 9\n",
      "Data columns (total 5 columns):\n",
      " #   Column     Non-Null Count  Dtype  \n",
      "---  ------     --------------  -----  \n",
      " 0   StudentID  10 non-null     int32  \n",
      " 1   Name       10 non-null     object \n",
      " 2   Age        9 non-null      float64\n",
      " 3   Gender     10 non-null     object \n",
      " 4   Score      9 non-null      float64\n",
      "dtypes: float64(2), int32(1), object(2)\n",
      "memory usage: 488.0+ bytes\n",
      "None\n",
      "\n",
      "Basic statistics:\n",
      "       StudentID        Age      Score\n",
      "count   10.00000   9.000000   9.000000\n",
      "mean     5.50000  21.555556  80.363537\n",
      "std      3.02765   1.666667  14.134881\n",
      "min      1.00000  19.000000  64.025577\n",
      "25%      3.25000  20.000000  65.231794\n",
      "50%      5.50000  22.000000  81.629984\n",
      "75%      7.75000  23.000000  88.384574\n",
      "max     10.00000  24.000000  99.811765\n"
     ]
    }
   ],
   "source": [
    "# Display the first few rows of the DataFrame\n",
    "print(\"\\nFirst few rows:\")\n",
    "print(students_df.head())\n",
    "\n",
    "# Get information about the DataFrame\n",
    "print(\"\\nData types and missing values:\")\n",
    "print(students_df.info())\n",
    "\n",
    "# Get basic statistics of numerical columns\n",
    "print(\"\\nBasic statistics:\")\n",
    "print(students_df.describe())\n"
   ]
  },
  {
   "cell_type": "markdown",
   "id": "1cd24d61",
   "metadata": {},
   "source": [
    "# 2. Handling Missing Values:"
   ]
  },
  {
   "cell_type": "code",
   "execution_count": 29,
   "id": "ef0e8d40",
   "metadata": {},
   "outputs": [],
   "source": [
    "# Introduce some missing values\n",
    "students_df.loc[1, 'Score'] = np.nan\n",
    "students_df.loc[3, 'Age'] = np.nan\n",
    "\n"
   ]
  },
  {
   "cell_type": "code",
   "execution_count": null,
   "id": "ef643618",
   "metadata": {},
   "outputs": [],
   "source": [
    "# Drop rows with missing values\n",
    "students_df_cleaned = students_df.dropna()\n",
    "\n"
   ]
  },
  {
   "cell_type": "code",
   "execution_count": 31,
   "id": "b3f4ed33",
   "metadata": {},
   "outputs": [
    {
     "data": {
      "text/html": [
       "<div>\n",
       "<style scoped>\n",
       "    .dataframe tbody tr th:only-of-type {\n",
       "        vertical-align: middle;\n",
       "    }\n",
       "\n",
       "    .dataframe tbody tr th {\n",
       "        vertical-align: top;\n",
       "    }\n",
       "\n",
       "    .dataframe thead th {\n",
       "        text-align: right;\n",
       "    }\n",
       "</style>\n",
       "<table border=\"1\" class=\"dataframe\">\n",
       "  <thead>\n",
       "    <tr style=\"text-align: right;\">\n",
       "      <th></th>\n",
       "      <th>StudentID</th>\n",
       "      <th>Name</th>\n",
       "      <th>Age</th>\n",
       "      <th>Gender</th>\n",
       "      <th>Score</th>\n",
       "    </tr>\n",
       "  </thead>\n",
       "  <tbody>\n",
       "    <tr>\n",
       "      <th>0</th>\n",
       "      <td>1</td>\n",
       "      <td>Alice</td>\n",
       "      <td>23.0</td>\n",
       "      <td>Female</td>\n",
       "      <td>64.025577</td>\n",
       "    </tr>\n",
       "    <tr>\n",
       "      <th>2</th>\n",
       "      <td>3</td>\n",
       "      <td>Charlie</td>\n",
       "      <td>20.0</td>\n",
       "      <td>Male</td>\n",
       "      <td>87.975110</td>\n",
       "    </tr>\n",
       "    <tr>\n",
       "      <th>4</th>\n",
       "      <td>5</td>\n",
       "      <td>Emma</td>\n",
       "      <td>20.0</td>\n",
       "      <td>Female</td>\n",
       "      <td>65.231794</td>\n",
       "    </tr>\n",
       "    <tr>\n",
       "      <th>5</th>\n",
       "      <td>6</td>\n",
       "      <td>Frank</td>\n",
       "      <td>21.0</td>\n",
       "      <td>Female</td>\n",
       "      <td>64.051845</td>\n",
       "    </tr>\n",
       "    <tr>\n",
       "      <th>6</th>\n",
       "      <td>7</td>\n",
       "      <td>Grace</td>\n",
       "      <td>24.0</td>\n",
       "      <td>Female</td>\n",
       "      <td>97.676045</td>\n",
       "    </tr>\n",
       "    <tr>\n",
       "      <th>7</th>\n",
       "      <td>8</td>\n",
       "      <td>Hank</td>\n",
       "      <td>19.0</td>\n",
       "      <td>Female</td>\n",
       "      <td>81.629984</td>\n",
       "    </tr>\n",
       "    <tr>\n",
       "      <th>8</th>\n",
       "      <td>9</td>\n",
       "      <td>Ivy</td>\n",
       "      <td>22.0</td>\n",
       "      <td>Female</td>\n",
       "      <td>74.485134</td>\n",
       "    </tr>\n",
       "    <tr>\n",
       "      <th>9</th>\n",
       "      <td>10</td>\n",
       "      <td>Jack</td>\n",
       "      <td>22.0</td>\n",
       "      <td>Male</td>\n",
       "      <td>88.384574</td>\n",
       "    </tr>\n",
       "  </tbody>\n",
       "</table>\n",
       "</div>"
      ],
      "text/plain": [
       "   StudentID     Name   Age  Gender      Score\n",
       "0          1    Alice  23.0  Female  64.025577\n",
       "2          3  Charlie  20.0    Male  87.975110\n",
       "4          5     Emma  20.0  Female  65.231794\n",
       "5          6    Frank  21.0  Female  64.051845\n",
       "6          7    Grace  24.0  Female  97.676045\n",
       "7          8     Hank  19.0  Female  81.629984\n",
       "8          9      Ivy  22.0  Female  74.485134\n",
       "9         10     Jack  22.0    Male  88.384574"
      ]
     },
     "execution_count": 31,
     "metadata": {},
     "output_type": "execute_result"
    }
   ],
   "source": [
    "students_df_cleaned"
   ]
  },
  {
   "cell_type": "code",
   "execution_count": 33,
   "id": "5ff9378e",
   "metadata": {},
   "outputs": [],
   "source": [
    "# Select only numeric columns for filling missing values\n",
    "numeric_columns = students_df.select_dtypes(include=[np.number]).columns\n",
    "students_df_filled = students_df.fillna(students_df[numeric_columns].mean())\n"
   ]
  },
  {
   "cell_type": "code",
   "execution_count": 34,
   "id": "ed2212ba",
   "metadata": {},
   "outputs": [
    {
     "data": {
      "text/html": [
       "<div>\n",
       "<style scoped>\n",
       "    .dataframe tbody tr th:only-of-type {\n",
       "        vertical-align: middle;\n",
       "    }\n",
       "\n",
       "    .dataframe tbody tr th {\n",
       "        vertical-align: top;\n",
       "    }\n",
       "\n",
       "    .dataframe thead th {\n",
       "        text-align: right;\n",
       "    }\n",
       "</style>\n",
       "<table border=\"1\" class=\"dataframe\">\n",
       "  <thead>\n",
       "    <tr style=\"text-align: right;\">\n",
       "      <th></th>\n",
       "      <th>StudentID</th>\n",
       "      <th>Name</th>\n",
       "      <th>Age</th>\n",
       "      <th>Gender</th>\n",
       "      <th>Score</th>\n",
       "    </tr>\n",
       "  </thead>\n",
       "  <tbody>\n",
       "    <tr>\n",
       "      <th>0</th>\n",
       "      <td>1</td>\n",
       "      <td>Alice</td>\n",
       "      <td>23.000000</td>\n",
       "      <td>Female</td>\n",
       "      <td>64.025577</td>\n",
       "    </tr>\n",
       "    <tr>\n",
       "      <th>1</th>\n",
       "      <td>2</td>\n",
       "      <td>Bob</td>\n",
       "      <td>23.000000</td>\n",
       "      <td>Female</td>\n",
       "      <td>80.363537</td>\n",
       "    </tr>\n",
       "    <tr>\n",
       "      <th>2</th>\n",
       "      <td>3</td>\n",
       "      <td>Charlie</td>\n",
       "      <td>20.000000</td>\n",
       "      <td>Male</td>\n",
       "      <td>87.975110</td>\n",
       "    </tr>\n",
       "    <tr>\n",
       "      <th>3</th>\n",
       "      <td>4</td>\n",
       "      <td>David</td>\n",
       "      <td>21.555556</td>\n",
       "      <td>Male</td>\n",
       "      <td>99.811765</td>\n",
       "    </tr>\n",
       "    <tr>\n",
       "      <th>4</th>\n",
       "      <td>5</td>\n",
       "      <td>Emma</td>\n",
       "      <td>20.000000</td>\n",
       "      <td>Female</td>\n",
       "      <td>65.231794</td>\n",
       "    </tr>\n",
       "    <tr>\n",
       "      <th>5</th>\n",
       "      <td>6</td>\n",
       "      <td>Frank</td>\n",
       "      <td>21.000000</td>\n",
       "      <td>Female</td>\n",
       "      <td>64.051845</td>\n",
       "    </tr>\n",
       "    <tr>\n",
       "      <th>6</th>\n",
       "      <td>7</td>\n",
       "      <td>Grace</td>\n",
       "      <td>24.000000</td>\n",
       "      <td>Female</td>\n",
       "      <td>97.676045</td>\n",
       "    </tr>\n",
       "    <tr>\n",
       "      <th>7</th>\n",
       "      <td>8</td>\n",
       "      <td>Hank</td>\n",
       "      <td>19.000000</td>\n",
       "      <td>Female</td>\n",
       "      <td>81.629984</td>\n",
       "    </tr>\n",
       "    <tr>\n",
       "      <th>8</th>\n",
       "      <td>9</td>\n",
       "      <td>Ivy</td>\n",
       "      <td>22.000000</td>\n",
       "      <td>Female</td>\n",
       "      <td>74.485134</td>\n",
       "    </tr>\n",
       "    <tr>\n",
       "      <th>9</th>\n",
       "      <td>10</td>\n",
       "      <td>Jack</td>\n",
       "      <td>22.000000</td>\n",
       "      <td>Male</td>\n",
       "      <td>88.384574</td>\n",
       "    </tr>\n",
       "  </tbody>\n",
       "</table>\n",
       "</div>"
      ],
      "text/plain": [
       "   StudentID     Name        Age  Gender      Score\n",
       "0          1    Alice  23.000000  Female  64.025577\n",
       "1          2      Bob  23.000000  Female  80.363537\n",
       "2          3  Charlie  20.000000    Male  87.975110\n",
       "3          4    David  21.555556    Male  99.811765\n",
       "4          5     Emma  20.000000  Female  65.231794\n",
       "5          6    Frank  21.000000  Female  64.051845\n",
       "6          7    Grace  24.000000  Female  97.676045\n",
       "7          8     Hank  19.000000  Female  81.629984\n",
       "8          9      Ivy  22.000000  Female  74.485134\n",
       "9         10     Jack  22.000000    Male  88.384574"
      ]
     },
     "execution_count": 34,
     "metadata": {},
     "output_type": "execute_result"
    }
   ],
   "source": [
    "students_df_filled "
   ]
  },
  {
   "cell_type": "markdown",
   "id": "b4e06bbb",
   "metadata": {},
   "source": [
    "# 3.Data Selection and Filtering:"
   ]
  },
  {
   "cell_type": "code",
   "execution_count": 35,
   "id": "5bde9d96",
   "metadata": {},
   "outputs": [],
   "source": [
    "# Select specific columns\n",
    "selected_columns = students_df[['Name', 'Score']]"
   ]
  },
  {
   "cell_type": "code",
   "execution_count": 36,
   "id": "5be77c29",
   "metadata": {},
   "outputs": [
    {
     "data": {
      "text/html": [
       "<div>\n",
       "<style scoped>\n",
       "    .dataframe tbody tr th:only-of-type {\n",
       "        vertical-align: middle;\n",
       "    }\n",
       "\n",
       "    .dataframe tbody tr th {\n",
       "        vertical-align: top;\n",
       "    }\n",
       "\n",
       "    .dataframe thead th {\n",
       "        text-align: right;\n",
       "    }\n",
       "</style>\n",
       "<table border=\"1\" class=\"dataframe\">\n",
       "  <thead>\n",
       "    <tr style=\"text-align: right;\">\n",
       "      <th></th>\n",
       "      <th>Name</th>\n",
       "      <th>Score</th>\n",
       "    </tr>\n",
       "  </thead>\n",
       "  <tbody>\n",
       "    <tr>\n",
       "      <th>0</th>\n",
       "      <td>Alice</td>\n",
       "      <td>64.025577</td>\n",
       "    </tr>\n",
       "    <tr>\n",
       "      <th>1</th>\n",
       "      <td>Bob</td>\n",
       "      <td>NaN</td>\n",
       "    </tr>\n",
       "    <tr>\n",
       "      <th>2</th>\n",
       "      <td>Charlie</td>\n",
       "      <td>87.975110</td>\n",
       "    </tr>\n",
       "    <tr>\n",
       "      <th>3</th>\n",
       "      <td>David</td>\n",
       "      <td>99.811765</td>\n",
       "    </tr>\n",
       "    <tr>\n",
       "      <th>4</th>\n",
       "      <td>Emma</td>\n",
       "      <td>65.231794</td>\n",
       "    </tr>\n",
       "    <tr>\n",
       "      <th>5</th>\n",
       "      <td>Frank</td>\n",
       "      <td>64.051845</td>\n",
       "    </tr>\n",
       "    <tr>\n",
       "      <th>6</th>\n",
       "      <td>Grace</td>\n",
       "      <td>97.676045</td>\n",
       "    </tr>\n",
       "    <tr>\n",
       "      <th>7</th>\n",
       "      <td>Hank</td>\n",
       "      <td>81.629984</td>\n",
       "    </tr>\n",
       "    <tr>\n",
       "      <th>8</th>\n",
       "      <td>Ivy</td>\n",
       "      <td>74.485134</td>\n",
       "    </tr>\n",
       "    <tr>\n",
       "      <th>9</th>\n",
       "      <td>Jack</td>\n",
       "      <td>88.384574</td>\n",
       "    </tr>\n",
       "  </tbody>\n",
       "</table>\n",
       "</div>"
      ],
      "text/plain": [
       "      Name      Score\n",
       "0    Alice  64.025577\n",
       "1      Bob        NaN\n",
       "2  Charlie  87.975110\n",
       "3    David  99.811765\n",
       "4     Emma  65.231794\n",
       "5    Frank  64.051845\n",
       "6    Grace  97.676045\n",
       "7     Hank  81.629984\n",
       "8      Ivy  74.485134\n",
       "9     Jack  88.384574"
      ]
     },
     "execution_count": 36,
     "metadata": {},
     "output_type": "execute_result"
    }
   ],
   "source": [
    "selected_columns "
   ]
  },
  {
   "cell_type": "code",
   "execution_count": 42,
   "id": "9a3e1a0c",
   "metadata": {},
   "outputs": [],
   "source": [
    "# Filter data based on a condition\n",
    "high_score_students = [students_df['Score'] > 80]\n"
   ]
  },
  {
   "cell_type": "code",
   "execution_count": 38,
   "id": "6ed6a884",
   "metadata": {},
   "outputs": [
    {
     "data": {
      "text/html": [
       "<div>\n",
       "<style scoped>\n",
       "    .dataframe tbody tr th:only-of-type {\n",
       "        vertical-align: middle;\n",
       "    }\n",
       "\n",
       "    .dataframe tbody tr th {\n",
       "        vertical-align: top;\n",
       "    }\n",
       "\n",
       "    .dataframe thead th {\n",
       "        text-align: right;\n",
       "    }\n",
       "</style>\n",
       "<table border=\"1\" class=\"dataframe\">\n",
       "  <thead>\n",
       "    <tr style=\"text-align: right;\">\n",
       "      <th></th>\n",
       "      <th>StudentID</th>\n",
       "      <th>Name</th>\n",
       "      <th>Age</th>\n",
       "      <th>Gender</th>\n",
       "      <th>Score</th>\n",
       "    </tr>\n",
       "  </thead>\n",
       "  <tbody>\n",
       "    <tr>\n",
       "      <th>2</th>\n",
       "      <td>3</td>\n",
       "      <td>Charlie</td>\n",
       "      <td>20.0</td>\n",
       "      <td>Male</td>\n",
       "      <td>87.975110</td>\n",
       "    </tr>\n",
       "    <tr>\n",
       "      <th>3</th>\n",
       "      <td>4</td>\n",
       "      <td>David</td>\n",
       "      <td>NaN</td>\n",
       "      <td>Male</td>\n",
       "      <td>99.811765</td>\n",
       "    </tr>\n",
       "    <tr>\n",
       "      <th>6</th>\n",
       "      <td>7</td>\n",
       "      <td>Grace</td>\n",
       "      <td>24.0</td>\n",
       "      <td>Female</td>\n",
       "      <td>97.676045</td>\n",
       "    </tr>\n",
       "    <tr>\n",
       "      <th>7</th>\n",
       "      <td>8</td>\n",
       "      <td>Hank</td>\n",
       "      <td>19.0</td>\n",
       "      <td>Female</td>\n",
       "      <td>81.629984</td>\n",
       "    </tr>\n",
       "    <tr>\n",
       "      <th>9</th>\n",
       "      <td>10</td>\n",
       "      <td>Jack</td>\n",
       "      <td>22.0</td>\n",
       "      <td>Male</td>\n",
       "      <td>88.384574</td>\n",
       "    </tr>\n",
       "  </tbody>\n",
       "</table>\n",
       "</div>"
      ],
      "text/plain": [
       "   StudentID     Name   Age  Gender      Score\n",
       "2          3  Charlie  20.0    Male  87.975110\n",
       "3          4    David   NaN    Male  99.811765\n",
       "6          7    Grace  24.0  Female  97.676045\n",
       "7          8     Hank  19.0  Female  81.629984\n",
       "9         10     Jack  22.0    Male  88.384574"
      ]
     },
     "execution_count": 38,
     "metadata": {},
     "output_type": "execute_result"
    }
   ],
   "source": [
    "high_score_students"
   ]
  },
  {
   "cell_type": "markdown",
   "id": "1b322e98",
   "metadata": {},
   "source": [
    "# 4.Grouping and Aggregation:"
   ]
  },
  {
   "cell_type": "code",
   "execution_count": 48,
   "id": "8e74cf22",
   "metadata": {},
   "outputs": [],
   "source": [
    "# Group by gender and calculate mean age for each group\n",
    "avg_age_by_gender = students_df.groupby('Gender')['Age'].mean()"
   ]
  },
  {
   "cell_type": "code",
   "execution_count": 49,
   "id": "33407bee",
   "metadata": {},
   "outputs": [
    {
     "data": {
      "text/plain": [
       "Gender\n",
       "Female    21.714286\n",
       "Male      21.000000\n",
       "Name: Age, dtype: float64"
      ]
     },
     "execution_count": 49,
     "metadata": {},
     "output_type": "execute_result"
    }
   ],
   "source": [
    "avg_age_by_gender"
   ]
  },
  {
   "cell_type": "markdown",
   "id": "d84eb230",
   "metadata": {},
   "source": [
    "# 5.Visualization:"
   ]
  },
  {
   "cell_type": "code",
   "execution_count": 51,
   "id": "653374f0",
   "metadata": {},
   "outputs": [
    {
     "data": {
      "image/png": "[encoded data removed]",
      "text/plain": [
       "<Figure size 432x288 with 1 Axes>"
      ]
     },
     "metadata": {
      "needs_background": "light"
     },
     "output_type": "display_data"
    },
    {
     "data": {
      "image/png": "[encoded data removed]",
      "text/plain": [
       "<Figure size 432x288 with 1 Axes>"
      ]
     },
     "metadata": {
      "needs_background": "light"
     },
     "output_type": "display_data"
    }
   ],
   "source": [
    "import matplotlib.pyplot as plt\n",
    "import seaborn as sns\n",
    "\n",
    "# Create a histogram of scores\n",
    "plt.hist(students_df['Score'])\n",
    "plt.xlabel('Score')\n",
    "plt.ylabel('Frequency')\n",
    "plt.title('Distribution of Scores')\n",
    "plt.show()\n",
    "\n",
    "# Create a bar plot of average age by gender\n",
    "sns.barplot(x='Gender', y='Age', data=students_df)\n",
    "plt.xlabel('Gender')\n",
    "plt.ylabel('Average Age')\n",
    "plt.title('Average Age by Gender')\n",
    "plt.show()\n"
   ]
  }
 ],
 "metadata": {
  "kernelspec": {
   "display_name": "Python 3 (ipykernel)",
   "language": "python",
   "name": "python3"
  },
  "language_info": {
   "codemirror_mode": {
    "name": "ipython",
    "version": 3
   },
   "file_extension": ".py",
   "mimetype": "text/x-python",
   "name": "python",
   "nbconvert_exporter": "python",
   "pygments_lexer": "ipython3",
   "version": "3.9.7"
  }
 },
 "nbformat": 4,
 "nbformat_minor": 5
}
