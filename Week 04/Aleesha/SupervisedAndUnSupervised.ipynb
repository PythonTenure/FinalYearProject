{
 "cells": [
  {
   "cell_type": "markdown",
   "id": "9d10fdf2",
   "metadata": {},
   "source": [
    "# Supervised and Unsupervised Learning"
   ]
  },
  {
   "cell_type": "markdown",
   "id": "c38d758b",
   "metadata": {},
   "source": [
    "# Supervised learning\n",
    "\n",
    "Supervised learning is the most common form of machine learning. With supervised learning, a set of examples, the training set, is submitted as input to the system during the training phase. Each input is labeled with a desired output value, in this way the system knows how is the output when input is come. For example consider some experimental observations that can be classified into N different classes. So we have a training set (a sequence of pairs) {(x1,y1),(x2,y2)….. (xn,yn)} where xi is the input and yi is the class of corresponding output. The training is performed by the minimization of a particular cost function which represent the bind from input xi and the desired output yi.\n",
    "Supervised learning schema\n",
    "\n",
    "A typical example of supervised machine learning application is the mail spam detector, this algorithm was trained with some spam, not spam emails and which group they belong. This training process continue when you mark a mail as “spam” or when you mark an email as “not spam” from the spam folder.\n",
    "\n",
    "For instance, suppose you are given a basket filled with different kinds of fruits. Now the first step is to train the machine with all the different fruits one by one like this: \n",
    "\n",
    "    If the shape of the object is rounded and has a depression at the top, is red in color, then it will be labeled as –Apple.\n",
    "    If the shape of the object is a long curving cylinder having Green-Yellow color, then it will be labeled as –Banana. \n",
    "\n",
    "Now suppose after training the data, you have given a new separate fruit, say Banana from the basket, and asked to identify it. \n",
    " \n",
    "\n",
    "Since the machine has already learned the things from previous data and this time has to use it wisely. It will first classify the fruit with its shape and color and would confirm the fruit name as BANANA and put it in the Banana category. Thus the machine learns the things from training data(basket containing fruits) and then applies the knowledge to test data(new fruit). \n",
    "\n",
    "Supervised learning is classified into two categories of algorithms: \n",
    "\n",
    "    Classification: A classification problem is when the output variable is a category, such as “Red” or “blue” , “disease” or “no disease”.\n",
    "    Regression: A regression problem is when the output variable is a real value, such as “dollars” or “weight”.\n",
    "\n",
    "Supervised learning deals with or learns with “labeled” data. This implies that some data is already tagged with the correct answer.\n",
    "\n",
    "Types:-\n",
    "\n",
    "    Regression\n",
    "    Logistic Regression\n",
    "    Classification\n",
    "    Naive Bayes Classifiers\n",
    "    K-NN (k nearest neighbors)\n",
    "    Decision Trees\n",
    "    Support Vector Machine\n",
    "\n",
    "Advantages:-\n",
    "\n",
    "    Supervised learning allows collecting data and produces data output from previous experiences.\n",
    "    Helps to optimize performance criteria with the help of experience.\n",
    "    Supervised machine learning helps to solve various types of real-world computation problems.\n",
    "    It performs classification and regression tasks.\n",
    "    It allows estimating or mapping the result to a new sample. \n",
    "    We have complete control over choosing the number of classes we want in the training data.\n",
    "\n",
    "Disadvantages:-\n",
    "\n",
    "    Classifying big data can be challenging.\n",
    "    Training for supervised learning needs a lot of computation time. So, it requires a lot of time.\n",
    "    Supervised learning cannot handle all complex tasks in Machine Learning.\n",
    "     Computation time is vast for supervised learning.\n",
    "    It requires a labelled data set.\n",
    "     It requires a training process.\n"
   ]
  },
  {
   "attachments": {
    "1%20SPDfWOWfqw02BhYB7DBl0Q.webp": {
     "image/webp": "[encoded data removed]"
    }
   },
   "cell_type": "markdown",
   "id": "3bfca9aa",
   "metadata": {},
   "source": [
    "![1%20SPDfWOWfqw02BhYB7DBl0Q.webp](attachment:1%20SPDfWOWfqw02BhYB7DBl0Q.webp)"
   ]
  },
  {
   "cell_type": "markdown",
   "id": "db5ec199",
   "metadata": {},
   "source": [
    "# Unsupervised learning\n",
    "\n",
    "Unsupervised learning, on the other hand, the training examples provide by the system are not labelled with the belonging class. So the system develops and organizes the data, searching common characteristics among them, and changing based on internal knowledge.\n",
    "Unsupervised learning schema\n",
    "\n",
    "An example of unsupervised learning is clustering classification: algorithm try to put similar things in a cluster and dissimilar in a different cluster, and the concept of similarity depends on a similarity measure"
   ]
  },
  {
   "attachments": {
    "1%20u4urBWgkHNqhTdgWYFmMFw.webp": {
     "image/webp": "[encoded data removed]"
    }
   },
   "cell_type": "markdown",
   "id": "33d7502c",
   "metadata": {},
   "source": [
    "![1%20u4urBWgkHNqhTdgWYFmMFw.webp](attachment:1%20u4urBWgkHNqhTdgWYFmMFw.webp)"
   ]
  },
  {
   "cell_type": "markdown",
   "id": "09800818",
   "metadata": {},
   "source": [
    "Unlike supervised learning, no teacher is provided that means no training will be given to the machine. Therefore the machine is restricted to find the hidden structure in unlabeled data by itself. \n",
    "For instance, suppose it is given an image having both dogs and cats which it has never seen. \n",
    " \n",
    "\n",
    "Thus the machine has no idea about the features of dogs and cats so we can’t categorize it as ‘dogs and cats ‘. But it can categorize them according to their similarities, patterns, and differences, i.e., we can easily categorize the above picture into two parts. The first may contain all pics having dogs in them and the second part may contain all pics having cats in them. Here you didn’t learn anything before, which means no training data or examples. \n",
    "\n",
    "It allows the model to work on its own to discover patterns and information that was previously undetected. It mainly deals with unlabelled data.\n",
    "\n",
    "Unsupervised learning is classified into two categories of algorithms: \n",
    "\n",
    "    Clustering: A clustering problem is where you want to discover the inherent groupings in the data, such as grouping customers by purchasing behavior.\n",
    "    Association: An association rule learning problem is where you want to discover rules that describe large portions of your data, such as people that buy X also tend to buy Y.\n",
    "\n",
    "Types of Unsupervised Learning:-\n",
    "\n",
    "Clustering\n",
    "\n",
    "    Exclusive (partitioning)\n",
    "    Agglomerative\n",
    "    Overlapping\n",
    "    Probabilistic\n",
    "\n",
    "Clustering Types:-\n",
    "\n",
    "    Hierarchical clustering\n",
    "    K-means clustering\n",
    "    Principal Component Analysis\n",
    "    Singular Value Decomposition\n",
    "    Independent Component Analysis\n",
    "\n",
    "Advantages of unsupervised learning:\n",
    "\n",
    "      It does not require training data to be labeled.\n",
    "    Dimensionality reduction can be easily accomplished using unsupervised learning. \n",
    "    Capable of finding previously unknown patterns in data.\n",
    "    Flexibility: Unsupervised learning is flexible in that it can be applied to a wide variety of problems, including clustering, anomaly detection, and association rule mining.\n",
    "    Exploration: Unsupervised learning allows for the exploration of data and the discovery of novel and potentially useful patterns that may not be apparent from the outset.\n",
    "    Low cost: Unsupervised learning is often less expensive than supervised learning because it doesn’t require labeled data, which can be time-consuming and costly to obtain.\n",
    "\n",
    "Disadvantages of unsupervised learning :\n",
    "\n",
    "    Difficult to measure accuracy or effectiveness due to lack of predefined answers during training. \n",
    "    The results often have lesser accuracy.\n",
    "    The user needs to spend time interpreting and label the classes which follow that classification.\n",
    "    Lack of guidance: Unsupervised learning lacks the guidance and feedback provided by labeled data, which can make it difficult to know whether the discovered patterns are relevant or useful.\n",
    "    Sensitivity to data quality: Unsupervised learning can be sensitive to data quality, including missing values, outliers, and noisy data.\n",
    "    Scalability: Unsupervised learning can be computationally expensive, particularly for large datasets or complex algorithms, which can limit its scalability.\n"
   ]
  },
  {
   "cell_type": "markdown",
   "id": "a1eeeac5",
   "metadata": {},
   "source": [
    "# Supervised vs. Unsupervised Machine Learning:\n",
    "Parameters \t          Supervised machine learning \t            Unsupervised machine learning\n",
    "\n",
    "Input Data   \t     Algorithms are trained using labeled data. \tAlgorithms are used against data that is not labeled\n",
    "Computational \n",
    "\n",
    "Complexity Simpler method \t Computationally complex\n",
    "\n",
    "Accuracy \tHighly accurate \tLess accurate \n",
    "\n",
    "No. of classes \tNo. of classes is known \tNo. of classes is not known\n",
    "\n",
    "Data Analysis \tUses offline analysis \tUses real-time analysis of data\n",
    "Algorithms used \t\n",
    "\n",
    "Linear and Logistics regression, Random forest,\n",
    "\n",
    "Support Vector Machine, Neural Network, etc.\n",
    "\t\n",
    "\n",
    "K-Means clustering, Hierarchical clustering, \n",
    "\n",
    "Apriori algorithm, etc.\n",
    "\n",
    "Output  \tDesired output is given. \tDesired output is not given.\n",
    "\n",
    "Training data  \tUse training data to infer model. \tNo training data is used.\n",
    "\n",
    "Complex model  \tIt is not possible to learn larger and more complex models than with supervised learning. \tIt is possible to learn larger and more complex models with unsupervised learning.\n",
    "\n",
    "Model  \tWe can test our model. \tWe can not test our model.\n",
    "\n",
    "Called as \tSupervised learning is also called classification. \tUnsupervised learning is also called clustering.\n",
    "\n",
    "Example  \tExample: Optical character recognition. \tExample: Find a face in an image."
   ]
  },
  {
   "cell_type": "code",
   "execution_count": null,
   "id": "0fe2e3b3",
   "metadata": {},
   "outputs": [],
   "source": []
  }
 ],
 "metadata": {
  "kernelspec": {
   "display_name": "Python 3 (ipykernel)",
   "language": "python",
   "name": "python3"
  },
  "language_info": {
   "codemirror_mode": {
    "name": "ipython",
    "version": 3
   },
   "file_extension": ".py",
   "mimetype": "text/x-python",
   "name": "python",
   "nbconvert_exporter": "python",
   "pygments_lexer": "ipython3",
   "version": "3.11.3"
  }
 },
 "nbformat": 4,
 "nbformat_minor": 5
}
