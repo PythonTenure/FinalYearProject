{
 "cells": [
  {
   "cell_type": "code",
   "execution_count": 9,
   "id": "8381a2c0",
   "metadata": {},
   "outputs": [],
   "source": [
    "from keras import models  # Import Keras models for building neural networks.\n",
    "from keras.layers import Dense, Dropout  # Import layers for defining network architecture.\n",
    "from keras.utils import to_categorical  # Import utility for one-hot encoding.\n",
    "from keras.datasets import mnist  # Import the MNIST dataset for training.\n",
    "# from keras.utils.vis_utils import model_to_dot  # Commented out visualization import.\n",
    "from IPython.display import SVG  # Import SVG display capability for Jupyter Notebook.\n",
    "\n"
   ]
  },
  {
   "cell_type": "code",
   "execution_count": 10,
   "id": "833921a1",
   "metadata": {},
   "outputs": [],
   "source": [
    "import numpy as np\n"
   ]
  },
  {
   "cell_type": "markdown",
   "id": "a6054cdf",
   "metadata": {},
   "source": [
    "# Livelossplot:"
   ]
  },
  {
   "cell_type": "markdown",
   "id": "9d02e8ca",
   "metadata": {},
   "source": [
    "livelossplot provides a way to create live, interactive plots that update during the training of a machine learning model. These plots typically show various metrics such as loss, accuracy, and any other custom metrics you want to monitor.\n"
   ]
  },
  {
   "cell_type": "code",
   "execution_count": 14,
   "id": "887b2878",
   "metadata": {},
   "outputs": [],
   "source": [
    "import livelossplot\n",
    "plot_losses = livelossplot.PlotLossesKeras()\n",
    "\n",
    "%matplotlib inline\n",
    "\n",
    "NUM_ROWS = 28\n",
    "NUM_COLS = 28\n",
    "NUM_CLASSES = 10\n",
    "BATCH_SIZE = 128\n",
    "EPOCHS = 10\n"
   ]
  },
  {
   "cell_type": "markdown",
   "id": "7644d7f3",
   "metadata": {},
   "source": [
    "# Epochs Vs Batch Vs Iterations"
   ]
  },
  {
   "cell_type": "markdown",
   "id": "c71a966a",
   "metadata": {},
   "source": [
    "Back propogation is a technique to reduce loss function\n",
    "Neural Network uses:\n",
    "\n",
    "Forward Propagation:\n",
    "\n",
    "Forward propagation is the process by which input data is passed through a neural network to compute predictions or activations. It involves the following steps:\n",
    "\n",
    "    Input Layer: The input data is fed into the neural network through the input layer. Each input feature corresponds to a neuron in the input layer.\n",
    "\n",
    "    Hidden Layers: The data is then passed through one or more hidden layers, where linear transformations and activation functions are applied at each neuron. The output of each neuron in a layer becomes the input for the neurons in the next layer. This process continues until the data reaches the output layer.\n",
    "\n",
    "    Output Layer: The final layer, the output layer, typically produces the network's predictions. Depending on the problem (e.g., classification, regression), the output layer may have different activation functions (e.g., softmax for classification, linear for regression).\n",
    "\n",
    "    Loss Calculation: The output of the network is compared to the true target values, and a loss function (also known as a cost or objective function) is used to quantify the error or difference between the predictions and the ground truth.\n",
    "\n",
    "    Propagation of Loss: The loss is then propagated backward through the network to calculate the gradients of the model's parameters with respect to the loss. This is where backward propagation comes into play.\n",
    "\n",
    "Backward Propagation:\n",
    "\n",
    "Backward propagation, also known as backpropagation, is the process by which gradients are calculated and updated during the training of a neural network. It involves the following steps:\n",
    "\n",
    "    Initialization: Gradients are initialized to zero for all the model's parameters (weights and biases).\n",
    "\n",
    "    Backward Pass: Starting from the output layer and moving backward through the hidden layers, the gradients of the loss with respect to each parameter are computed using the chain rule of calculus. This is done layer by layer.\n",
    "\n",
    "    Gradient Descent: The computed gradients are used to update the model's parameters. This is typically done using optimization algorithms like stochastic gradient descent (SGD) or its variants (e.g., Adam, RMSprop). The parameters are updated to minimize the loss function, which improves the model's predictive performance.\n",
    "\n",
    "    Repeat: Steps 2 and 3 are repeated for multiple iterations or epochs to iteratively improve the model's performance on the training data."
   ]
  },
  {
   "cell_type": "markdown",
   "id": "7a408e1c",
   "metadata": {},
   "source": [
    "# Epochs:\n",
    "    \n"
   ]
  },
  {
   "cell_type": "markdown",
   "id": "589d1986",
   "metadata": {},
   "source": [
    "10K images:\n",
    "(In One interation) giving all dataset during training. Also use Multiple Epochs"
   ]
  },
  {
   "cell_type": "markdown",
   "id": "29e8b2be",
   "metadata": {},
   "source": [
    "# Batch:"
   ]
  },
  {
   "cell_type": "markdown",
   "id": "f0e6428e",
   "metadata": {},
   "source": [
    "16 GB\n",
    "10K Images load----> 24GB\n",
    "Not possible to load whole dataset.\n",
    "Specify batch Size, how much images are given in one interation and further\n",
    "\n"
   ]
  },
  {
   "cell_type": "markdown",
   "id": "6e654829",
   "metadata": {},
   "source": [
    "Epoche: 1\n",
    "batch_size : 10\n",
    "        \n",
    "epoche1---->\n",
    "\n",
    "iteration 1  --------> (Forward)\n",
    "             <-------   (backward)  loss (reduce)\n",
    "    \n",
    "continue: \n",
    "\n",
    "upto 10 iterations\n",
    "\n",
    "if:\n",
    "    \n",
    "Epoche: 10\n",
    "    \n",
    "batch size : 128\n",
    "    \n",
    "Epoche1---->\n",
    "\n",
    "iteration 1  --------> (Forward)\n",
    "             <-------   (backward)  loss (reduce)\n",
    "    \n",
    "continue: \n",
    "\n",
    "upto 128 iterations\n",
    "\n",
    "Epoche2---->\n",
    "\n",
    "iteration 1  --------> (Forward)\n",
    "             <-------   (backward)  loss (reduce)\n",
    "    \n",
    "continue: \n",
    "\n",
    "upto 128 iterations\n",
    "\n",
    "Epoche3-->\n",
    "\n",
    "continue \n",
    "\n",
    "Epoche10\n",
    "\n",
    "\n",
    "\n",
    "\n",
    "\n"
   ]
  },
  {
   "cell_type": "code",
   "execution_count": 17,
   "id": "38d85cd3",
   "metadata": {},
   "outputs": [],
   "source": [
    "def data_summary(X_train,y_train,X_test,y_test):\n",
    "    #\"Summarize current state of dataset\"\n",
    "    print(\"Train images shape:\" , X_train.shape)\n",
    "    print(\"Train labels shape:\" , y_train.shape)\n",
    "    print(\"Test images shape:\" , X_test.shape)\n",
    "    print(\"Test labels shape:\" , y_test.shape) \n",
    "    print('Train labels:' , y_train)\n",
    "    print('Test labels:' , y_test)\n",
    "    \n"
   ]
  },
  {
   "cell_type": "code",
   "execution_count": 18,
   "id": "20a7b4e0",
   "metadata": {},
   "outputs": [
    {
     "name": "stdout",
     "output_type": "stream",
     "text": [
      "Downloading data from https://storage.googleapis.com/tensorflow/tf-keras-datasets/mnist.npz\n",
      "11490434/11490434 [==============================] - 19s 2us/step\n"
     ]
    }
   ],
   "source": [
    "#load data\n",
    "\n",
    "(X_train , y_train) , (X_test , y_test) = mnist.load_data()\n"
   ]
  },
  {
   "cell_type": "code",
   "execution_count": 19,
   "id": "e977d3de",
   "metadata": {},
   "outputs": [
    {
     "name": "stdout",
     "output_type": "stream",
     "text": [
      "Train images shape: (60000, 28, 28)\n",
      "Train labels shape: (60000,)\n",
      "Test images shape: (10000, 28, 28)\n",
      "Test labels shape: (10000,)\n",
      "Train labels: [5 0 4 ... 5 6 8]\n",
      "Test labels: [7 2 1 ... 4 5 6]\n"
     ]
    }
   ],
   "source": [
    "# Check data summary\n",
    "data_summary(X_train,y_train,X_test,y_test)"
   ]
  },
  {
   "cell_type": "code",
   "execution_count": 21,
   "id": "34b7d319",
   "metadata": {},
   "outputs": [],
   "source": [
    "# Reshape data converting into 1D data:\n",
    "\n",
    "X_train = X_train.reshape((X_train.shape[0] , NUM_ROWS * NUM_COLS))\n",
    "X_train = X_train.astype('float32')/255\n",
    "\n",
    "X_test = X_test.reshape((X_test.shape[0] , NUM_ROWS * NUM_COLS))\n",
    "X_test = X_test.astype('float32')/255\n",
    "\n",
    "\n"
   ]
  },
  {
   "cell_type": "code",
   "execution_count": 23,
   "id": "15c862a9",
   "metadata": {},
   "outputs": [],
   "source": [
    "#Categorically encode labels:\n",
    "\n",
    "#One hote encoding:\n",
    "\n",
    "y_train = to_categorical(y_train , NUM_CLASSES)\n",
    "y_test = to_categorical(y_test , NUM_CLASSES)\n"
   ]
  },
  {
   "cell_type": "code",
   "execution_count": 24,
   "id": "1e0a0216",
   "metadata": {},
   "outputs": [
    {
     "name": "stdout",
     "output_type": "stream",
     "text": [
      "Train images shape: (60000, 784)\n",
      "Train labels shape: (60000, 10)\n",
      "Test images shape: (10000, 784)\n",
      "Test labels shape: (10000, 10)\n",
      "Train labels: [[0. 0. 0. ... 0. 0. 0.]\n",
      " [1. 0. 0. ... 0. 0. 0.]\n",
      " [0. 0. 0. ... 0. 0. 0.]\n",
      " ...\n",
      " [0. 0. 0. ... 0. 0. 0.]\n",
      " [0. 0. 0. ... 0. 0. 0.]\n",
      " [0. 0. 0. ... 0. 1. 0.]]\n",
      "Test labels: [[0. 0. 0. ... 1. 0. 0.]\n",
      " [0. 0. 1. ... 0. 0. 0.]\n",
      " [0. 1. 0. ... 0. 0. 0.]\n",
      " ...\n",
      " [0. 0. 0. ... 0. 0. 0.]\n",
      " [0. 0. 0. ... 0. 0. 0.]\n",
      " [0. 0. 0. ... 0. 0. 0.]]\n"
     ]
    }
   ],
   "source": [
    "#Check state of dataset:\n",
    "data_summary(X_train,y_train,X_test,y_test)\n"
   ]
  },
  {
   "cell_type": "code",
   "execution_count": 26,
   "id": "b24a6298",
   "metadata": {},
   "outputs": [],
   "source": [
    "#Build neural network\n",
    "\n",
    "# Create a Sequential model, which is a linear stack of layers.\n",
    "model = models.Sequential()\n",
    "\n",
    "# Add a Dense (fully connected) layer with 512 units and ReLU activation.\n",
    "# The input shape is set to (NUM_ROWS * NUM_COLS,), which is the flattened image size.\n",
    "model.add(Dense(512, activation='relu', input_shape=(NUM_ROWS * NUM_COLS,)))\n",
    "\n",
    "# Add a Dropout layer with a dropout rate of 0.5 to prevent overfitting.\n",
    "model.add(Dropout(0.5))\n",
    "\n",
    "# Add another Dense layer with 256 units and ReLU activation.\n",
    "model.add(Dense(256, activation='relu'))\n",
    "\n",
    "# Add another Dropout layer with a dropout rate of 0.25.\n",
    "model.add(Dropout(0.25))\n",
    "\n",
    "# Add a final Dense layer with 10 units and softmax activation for classification.\n",
    "model.add(Dense(10, activation='softmax'))\n",
    "\n",
    "\n"
   ]
  },
  {
   "cell_type": "markdown",
   "id": "1291c266",
   "metadata": {},
   "source": [
    "ReLU (Rectified Linear Activation) and Softmax are both activation functions used in neural networks, but they serve different purposes and have different characteristics:\n",
    "\n",
    "1. **ReLU (Rectified Linear Activation):**\n",
    "   - **Purpose:** ReLU is commonly used in hidden layers of neural networks to introduce non-linearity. It helps the network learn complex patterns and representations.\n",
    "  \n",
    "\n",
    "2. **Softmax:**\n",
    "   - **Purpose:** Softmax is often used in the output layer of a neural network for multi-class classification problems. It converts raw scores (logits) into class probabilities.\n",
    "    \n",
    "\n",
    "In summary, ReLU is used to introduce non-linearity and learn complex features within hidden layers, while Softmax is used in the output layer to produce class probabilities for multi-class classification tasks. They serve different purposes within a neural network architecture."
   ]
  },
  {
   "cell_type": "code",
   "execution_count": 28,
   "id": "38382389",
   "metadata": {},
   "outputs": [],
   "source": [
    "# Compile the model with a specified optimizer, loss function, and evaluation metrics.\n",
    "\n",
    "# Use the 'rmsprop' optimizer, which is a variant of stochastic gradient descent (SGD).\n",
    "model.compile(optimizer='rmsprop',\n",
    "\n",
    "# Specify 'categorical_crossentropy' as the loss function.\n",
    "# This loss is commonly used for multi-class classification problems.\n",
    "loss='categorical_crossentropy',\n",
    "\n",
    "# Define 'accuracy' as the evaluation metric to monitor during training.\n",
    "metrics=['accuracy'])\n",
    "\n"
   ]
  },
  {
   "cell_type": "code",
   "execution_count": 29,
   "id": "e681fdde",
   "metadata": {},
   "outputs": [
    {
     "data": {
      "image/png": "[encoded data removed]",
      "text/plain": [
       "<Figure size 1200x800 with 2 Axes>"
      ]
     },
     "metadata": {},
     "output_type": "display_data"
    },
    {
     "name": "stdout",
     "output_type": "stream",
     "text": [
      "accuracy\n",
      "\ttraining         \t (min:    0.360, max:    0.934, cur:    0.934)\n",
      "\tvalidation       \t (min:    0.622, max:    0.938, cur:    0.938)\n",
      "Loss\n",
      "\ttraining         \t (min:    0.220, max:    1.854, cur:    0.220)\n",
      "\tvalidation       \t (min:   18.477, max:   43.039, cur:   18.477)\n",
      "469/469 [==============================] - 12s 25ms/step - loss: 0.2201 - accuracy: 0.9341 - val_loss: 18.4767 - val_accuracy: 0.9376\n",
      "Test loss:  18.476667404174805\n",
      "Test accuracy:  0.9376000165939331\n"
     ]
    }
   ],
   "source": [
    "# Train the model using the training data and labels.\n",
    "# - X_train: Input training data\n",
    "# - y_train: Corresponding training labels\n",
    "# - batch_size: Number of samples per gradient update\n",
    "# - epochs: Number of training epochs (iterations over the entire dataset)\n",
    "# - callbacks: List of callbacks (e.g., for plotting training progress)\n",
    "# - verbose: Verbosity mode (1 for progress bar, 0 for silent)\n",
    "# - validation_data: Data on which to evaluate the loss and any model metrics at the end of each epoch\n",
    "model.fit(X_train, y_train, batch_size=BATCH_SIZE, epochs=EPOCHS, callbacks=[plot_losses], verbose=1, validation_data=(X_test, y_test))\n",
    "\n",
    "# Evaluate the model on the test data to calculate the loss and accuracy.\n",
    "# - X_test: Input test data\n",
    "# - y_test: Corresponding test labels\n",
    "# - verbose: Verbosity mode (0 for silent, no progress output)\n",
    "score = model.evaluate(X_test, y_test, verbose=0)\n",
    "\n",
    "# Print the test loss and test accuracy.\n",
    "print('Test loss: ', score[0])\n",
    "print('Test accuracy: ', score[1])\n"
   ]
  },
  {
   "cell_type": "code",
   "execution_count": 30,
   "id": "87e22eca",
   "metadata": {},
   "outputs": [
    {
     "name": "stdout",
     "output_type": "stream",
     "text": [
      "Model: \"sequential_1\"\n",
      "_________________________________________________________________\n",
      " Layer (type)                Output Shape              Param #   \n",
      "=================================================================\n",
      " dense_3 (Dense)             (None, 512)               401920    \n",
      "                                                                 \n",
      " dropout_2 (Dropout)         (None, 512)               0         \n",
      "                                                                 \n",
      " dense_4 (Dense)             (None, 256)               131328    \n",
      "                                                                 \n",
      " dropout_3 (Dropout)         (None, 256)               0         \n",
      "                                                                 \n",
      " dense_5 (Dense)             (None, 10)                2570      \n",
      "                                                                 \n",
      "=================================================================\n",
      "Total params: 535818 (2.04 MB)\n",
      "Trainable params: 535818 (2.04 MB)\n",
      "Non-trainable params: 0 (0.00 Byte)\n",
      "_________________________________________________________________\n"
     ]
    }
   ],
   "source": [
    "model.summary()"
   ]
  },
  {
   "cell_type": "code",
   "execution_count": 32,
   "id": "169a6b7b",
   "metadata": {},
   "outputs": [],
   "source": [
    "#SVG(model_to_dot(model).create(prog = 'dot' , format = 'svg'))"
   ]
  },
  {
   "cell_type": "code",
   "execution_count": null,
   "id": "c5ee0c5a",
   "metadata": {},
   "outputs": [],
   "source": []
  }
 ],
 "metadata": {
  "kernelspec": {
   "display_name": "Python 3 (ipykernel)",
   "language": "python",
   "name": "python3"
  },
  "language_info": {
   "codemirror_mode": {
    "name": "ipython",
    "version": 3
   },
   "file_extension": ".py",
   "mimetype": "text/x-python",
   "name": "python",
   "nbconvert_exporter": "python",
   "pygments_lexer": "ipython3",
   "version": "3.11.3"
  }
 },
 "nbformat": 4,
 "nbformat_minor": 5
}
